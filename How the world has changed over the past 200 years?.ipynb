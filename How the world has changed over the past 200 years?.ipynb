{
 "cells": [
  {
   "cell_type": "markdown",
   "metadata": {},
   "source": [
    "# How the world has changed over the past 200 years?\n",
    "\n",
    "## Table of Contents\n",
    "<ul>\n",
    "<li><a href=\"#intro\">Introduction</a></li>\n",
    "<li><a href=\"#wrangling\">Data Wrangling</a></li>\n",
    "<li><a href=\"#eda\">Exploratory Data Analysis</a></li>\n",
    "<li><a href=\"#conclusions\">Conclusions</a></li>\n",
    "</ul>"
   ]
  },
  {
   "cell_type": "markdown",
   "metadata": {},
   "source": [
    "<a id='intro'></a>\n",
    "## Introduction\n",
    "\n",
    "For this project, I chose data available on the Gapminder [website](https://www.gapminder.org/data/) to evaluate how the world has changed in the last 200 years.My main question is: how the world has changed over the past 200 years? While the answer to this question might sound obvious, due to the economic, technological and healthcare advances the world have experienced over the past two centuries, it still interesting to evaluate the magnitude of this change, and how the different regions have changed over the years. \n",
    "\n",
    "I selected few key variables to evaluate this issue:\n",
    "\n",
    "- **PPP GDP**: gross domestic product for each country converted to international dollars using purchasing power parity rates. Data are in constant 2005 international dollars;\n",
    "- **Income Per Person**: Gross domestic product per person adjusted for differences in purchasing power (in international dollars, fixed 2011 price, PPP based on 2011 ICP;\n",
    "- **Gini coefficient**: Gini shows income inequality in a society. A higher number means more equality;\n",
    "- **Population**: total population;\n",
    "- **Child mortality**: Death of children under five years of age per 1,000 live births;\n",
    "- **Life expectancy**: The average number of years a newborn child would live if current patterns were to stay the same.\n",
    "\n",
    "Since these variable are provided for a period of time that spans from 2010 to 2013, I picked two years: 1800 and 2000 as reference.\n",
    "\n"
   ]
  },
  {
   "cell_type": "markdown",
   "metadata": {},
   "source": [
    "First of all, I imported the packages I needed for this project."
   ]
  },
  {
   "cell_type": "code",
   "execution_count": 1,
   "metadata": {},
   "outputs": [],
   "source": [
    "# Import packages\n",
    "import pandas as pd\n",
    "import numpy as np\n",
    "import matplotlib.pyplot as plt\n",
    "import seaborn as sns\n",
    "% matplotlib inline"
   ]
  },
  {
   "cell_type": "markdown",
   "metadata": {},
   "source": [
    "<a id='wrangling'></a>\n",
    "## Data Wrangling\n",
    "\n",
    "\n",
    "\n",
    "### General Properties\n",
    "\n",
    "In this section, I will start by importing the different DataFrames which contains a single variables over time, and print out some general information to familiarize with the data."
   ]
  },
  {
   "cell_type": "code",
   "execution_count": 2,
   "metadata": {},
   "outputs": [
    {
     "name": "stdout",
     "output_type": "stream",
     "text": [
      "       country          1800          1801          1802          1803  \\\n",
      "0  Afghanistan  2.080000e+09  2.080000e+09  2.080000e+09  2.080000e+09   \n",
      "1      Albania  3.260000e+08  3.270000e+08  3.280000e+08  3.300000e+08   \n",
      "2      Algeria  3.810000e+09  3.820000e+09  3.830000e+09  3.850000e+09   \n",
      "3      Andorra  3.340000e+06  3.350000e+06  3.360000e+06  3.360000e+06   \n",
      "4       Angola  1.020000e+09  1.020000e+09  1.030000e+09  1.030000e+09   \n",
      "\n",
      "           1804          1805          1806          1807          1808  \\\n",
      "0  2.080000e+09  2.080000e+09  2.080000e+09  2.080000e+09  2.080000e+09   \n",
      "1  3.310000e+08  3.320000e+08  3.340000e+08  3.350000e+08  3.370000e+08   \n",
      "2  3.860000e+09  3.870000e+09  3.890000e+09  3.900000e+09  3.920000e+09   \n",
      "3  3.370000e+06  3.370000e+06  3.380000e+06  3.380000e+06  3.390000e+06   \n",
      "4  1.040000e+09  1.040000e+09  1.050000e+09  1.050000e+09  1.050000e+09   \n",
      "\n",
      "       ...               2004          2005          2006          2007  \\\n",
      "0      ...       2.890000e+10  3.240000e+10  3.390000e+10  3.850000e+10   \n",
      "1      ...       2.110000e+10  2.230000e+10  2.350000e+10  2.490000e+10   \n",
      "2      ...       3.720000e+11  3.920000e+11  3.990000e+11  4.130000e+11   \n",
      "3      ...       2.820000e+09  3.040000e+09  3.190000e+09  3.190000e+09   \n",
      "4      ...       6.310000e+10  7.610000e+10  9.020000e+10  1.110000e+11   \n",
      "\n",
      "           2008          2009          2010          2011          2012  \\\n",
      "0  3.950000e+10  4.750000e+10  5.130000e+10  5.490000e+10  6.300000e+10   \n",
      "1  2.670000e+10  2.760000e+10  2.850000e+10  2.930000e+10  3.010000e+10   \n",
      "2  4.210000e+11  4.280000e+11  4.430000e+11  4.540000e+11  4.650000e+11   \n",
      "3  3.060000e+09  2.900000e+09  2.810000e+09  2.730000e+09           NaN   \n",
      "4  1.270000e+11  1.300000e+11  1.340000e+11  1.390000e+11  1.460000e+11   \n",
      "\n",
      "           2013  \n",
      "0  6.580000e+10  \n",
      "1  3.070000e+10  \n",
      "2  4.790000e+11  \n",
      "3           NaN  \n",
      "4  1.520000e+11  \n",
      "\n",
      "[5 rows x 215 columns]\n",
      "<class 'pandas.core.frame.DataFrame'>\n",
      "RangeIndex: 194 entries, 0 to 193\n",
      "Columns: 215 entries, country to 2013\n",
      "dtypes: float64(214), object(1)\n",
      "memory usage: 325.9+ KB\n",
      "None\n"
     ]
    }
   ],
   "source": [
    "tot_gdp = pd.read_csv('total_gdp_ppp_inflation_adjusted.csv')\n",
    "print(tot_gdp.head())\n",
    "print(tot_gdp.info())"
   ]
  },
  {
   "cell_type": "code",
   "execution_count": 3,
   "metadata": {},
   "outputs": [
    {
     "name": "stdout",
     "output_type": "stream",
     "text": [
      "       country  1800  1801  1802  1803  1804  1805  1806  1807  1808  ...   \\\n",
      "0  Afghanistan  30.5  30.5  30.5  30.5  30.5  30.5  30.5  30.5  30.5  ...    \n",
      "1      Albania  38.9  38.9  38.9  38.9  38.9  38.9  38.9  38.9  38.9  ...    \n",
      "2      Algeria  56.2  56.2  56.2  56.2  56.2  56.2  56.2  56.2  56.2  ...    \n",
      "3      Andorra  40.0  40.0  40.0  40.0  40.0  40.0  40.0  40.0  40.0  ...    \n",
      "4       Angola  57.2  57.2  57.2  57.2  57.2  57.2  57.2  57.2  57.2  ...    \n",
      "\n",
      "   2031  2032  2033  2034  2035  2036  2037  2038  2039  2040  \n",
      "0  36.8  36.8  36.8  36.8  36.8  36.8  36.8  36.8  36.8  36.8  \n",
      "1  29.0  29.0  29.0  29.0  29.0  29.0  29.0  29.0  29.0  29.0  \n",
      "2  27.6  27.6  27.6  27.6  27.6  27.6  27.6  27.6  27.6  27.6  \n",
      "3  40.0  40.0  40.0  40.0  40.0  40.0  40.0  40.0  40.0  40.0  \n",
      "4  42.6  42.6  42.6  42.6  42.6  42.6  42.6  42.6  42.6  42.6  \n",
      "\n",
      "[5 rows x 242 columns]\n",
      "<class 'pandas.core.frame.DataFrame'>\n",
      "RangeIndex: 195 entries, 0 to 194\n",
      "Columns: 242 entries, country to 2040\n",
      "dtypes: float64(241), object(1)\n",
      "memory usage: 368.8+ KB\n",
      "None\n"
     ]
    }
   ],
   "source": [
    "gini = pd.read_csv('gini.csv')\n",
    "print(gini.head())\n",
    "print(gini.info())"
   ]
  },
  {
   "cell_type": "code",
   "execution_count": 4,
   "metadata": {
    "scrolled": true
   },
   "outputs": [
    {
     "name": "stdout",
     "output_type": "stream",
     "text": [
      "       country  1800  1801  1802  1803  1804  1805  1806  1807  1808  ...    \\\n",
      "0  Afghanistan   603   603   603   603   603   603   603   603   603  ...     \n",
      "1      Albania   667   667   667   667   667   668   668   668   668  ...     \n",
      "2      Algeria   715   716   717   718   719   720   721   722   723  ...     \n",
      "3      Andorra  1200  1200  1200  1200  1210  1210  1210  1210  1220  ...     \n",
      "4       Angola   618   620   623   626   628   631   634   637   640  ...     \n",
      "\n",
      "    2031   2032   2033   2034   2035   2036   2037   2038   2039   2040  \n",
      "0   2550   2600   2660   2710   2770   2820   2880   2940   3000   3060  \n",
      "1  19400  19800  20200  20600  21000  21500  21900  22300  22800  23300  \n",
      "2  14300  14600  14900  15200  15500  15800  16100  16500  16800  17100  \n",
      "3  73600  75100  76700  78300  79900  81500  83100  84800  86500  88300  \n",
      "4   6110   6230   6350   6480   6610   6750   6880   7020   7170   7310  \n",
      "\n",
      "[5 rows x 242 columns]\n",
      "<class 'pandas.core.frame.DataFrame'>\n",
      "RangeIndex: 193 entries, 0 to 192\n",
      "Columns: 242 entries, country to 2040\n",
      "dtypes: int64(241), object(1)\n",
      "memory usage: 365.0+ KB\n",
      "None\n"
     ]
    }
   ],
   "source": [
    "income_per_person = pd.read_csv('income_per_person_gdppercapita_ppp_inflation_adjusted.csv')\n",
    "print(income_per_person.head())\n",
    "print(income_per_person.info())"
   ]
  },
  {
   "cell_type": "code",
   "execution_count": 5,
   "metadata": {},
   "outputs": [
    {
     "name": "stdout",
     "output_type": "stream",
     "text": [
      "       country   1800   1801   1802   1803   1804   1805   1806   1807   1808  \\\n",
      "0  Afghanistan  469.0  469.0  469.0  469.0  469.0  469.0  470.0  470.0  470.0   \n",
      "1      Albania  375.0  375.0  375.0  375.0  375.0  375.0  375.0  375.0  375.0   \n",
      "2      Algeria  460.0  460.0  460.0  460.0  460.0  460.0  460.0  460.0  460.0   \n",
      "3      Andorra    NaN    NaN    NaN    NaN    NaN    NaN    NaN    NaN    NaN   \n",
      "4       Angola  486.0  486.0  486.0  486.0  486.0  486.0  486.0  486.0  486.0   \n",
      "\n",
      "   ...     2091   2092   2093   2094   2095   2096   2097   2098   2099   2100  \n",
      "0  ...    12.60  12.40  12.20  12.00  11.80  11.60  11.50  11.30  11.10  11.10  \n",
      "1  ...     2.32   2.30   2.27   2.24   2.22   2.19   2.16   2.14   2.11   2.11  \n",
      "2  ...     4.28   4.20   4.14   4.07   4.00   3.94   3.88   3.82   3.76   3.76  \n",
      "3  ...     0.86   0.84   0.83   0.81   0.80   0.79   0.78   0.77   0.76   0.76  \n",
      "4  ...    17.70  17.50  17.30  17.10  17.00  16.80  16.60  16.40  16.30  16.30  \n",
      "\n",
      "[5 rows x 302 columns]\n",
      "<class 'pandas.core.frame.DataFrame'>\n",
      "RangeIndex: 195 entries, 0 to 194\n",
      "Columns: 302 entries, country to 2100\n",
      "dtypes: float64(301), object(1)\n",
      "memory usage: 460.2+ KB\n",
      "None\n"
     ]
    }
   ],
   "source": [
    "child_mortality = pd.read_csv('child_mortality.csv')\n",
    "print(child_mortality.head())\n",
    "print(child_mortality.info())"
   ]
  },
  {
   "cell_type": "code",
   "execution_count": 6,
   "metadata": {},
   "outputs": [
    {
     "name": "stdout",
     "output_type": "stream",
     "text": [
      "       country     1800     1801     1802     1803     1804     1805     1806  \\\n",
      "0  Afghanistan  3280000  3280000  3280000  3280000  3280000  3280000  3280000   \n",
      "1      Albania   400000   402000   404000   405000   407000   409000   411000   \n",
      "2      Algeria  2500000  2510000  2520000  2530000  2540000  2550000  2560000   \n",
      "3      Andorra     2650     2650     2650     2650     2650     2650     2650   \n",
      "4       Angola  1570000  1570000  1570000  1570000  1570000  1570000  1570000   \n",
      "\n",
      "      1807     1808    ...           2091       2092       2093       2094  \\\n",
      "0  3280000  3280000    ...       76600000   76400000   76300000   76100000   \n",
      "1   413000   414000    ...        1330000    1300000    1270000    1250000   \n",
      "2  2560000  2570000    ...       70400000   70500000   70500000   70600000   \n",
      "3     2650     2650    ...          63000      62900      62900      62800   \n",
      "4  1570000  1570000    ...      168000000  170000000  172000000  175000000   \n",
      "\n",
      "        2095       2096       2097       2098       2099       2100  \n",
      "0   76000000   75800000   75600000   75400000   75200000   74900000  \n",
      "1    1220000    1190000    1170000    1140000    1110000    1090000  \n",
      "2   70700000   70700000   70700000   70700000   70700000   70700000  \n",
      "3      62700      62700      62600      62500      62500      62400  \n",
      "4  177000000  179000000  182000000  184000000  186000000  188000000  \n",
      "\n",
      "[5 rows x 302 columns]\n",
      "<class 'pandas.core.frame.DataFrame'>\n",
      "RangeIndex: 195 entries, 0 to 194\n",
      "Columns: 302 entries, country to 2100\n",
      "dtypes: int64(301), object(1)\n",
      "memory usage: 460.2+ KB\n",
      "None\n"
     ]
    }
   ],
   "source": [
    "population = pd.read_csv('population_total.csv')\n",
    "print(population.head())\n",
    "print(population.info())"
   ]
  },
  {
   "cell_type": "code",
   "execution_count": 7,
   "metadata": {},
   "outputs": [
    {
     "name": "stdout",
     "output_type": "stream",
     "text": [
      "       country  1800  1801  1802  1803  1804  1805  1806  1807  1808  ...   \\\n",
      "0  Afghanistan  28.2  28.2  28.2  28.2  28.2  28.2  28.1  28.1  28.1  ...    \n",
      "1      Albania  35.4  35.4  35.4  35.4  35.4  35.4  35.4  35.4  35.4  ...    \n",
      "2      Algeria  28.8  28.8  28.8  28.8  28.8  28.8  28.8  28.8  28.8  ...    \n",
      "3      Andorra   NaN   NaN   NaN   NaN   NaN   NaN   NaN   NaN   NaN  ...    \n",
      "4       Angola  27.0  27.0  27.0  27.0  27.0  27.0  27.0  27.0  27.0  ...    \n",
      "\n",
      "   2091  2092  2093  2094  2095  2096  2097  2098  2099  2100  \n",
      "0  76.5  76.6  76.7  76.9  77.0  77.1  77.3  77.4  77.5  77.7  \n",
      "1  87.4  87.5  87.6  87.7  87.8  87.9  88.0  88.1  88.2  88.3  \n",
      "2  88.3  88.4  88.5  88.6  88.7  88.8  88.9  89.0  89.1  89.2  \n",
      "3   NaN   NaN   NaN   NaN   NaN   NaN   NaN   NaN   NaN   NaN  \n",
      "4  78.7  78.9  79.0  79.1  79.3  79.4  79.5  79.7  79.8  79.9  \n",
      "\n",
      "[5 rows x 302 columns]\n",
      "<class 'pandas.core.frame.DataFrame'>\n",
      "RangeIndex: 195 entries, 0 to 194\n",
      "Columns: 302 entries, country to 2100\n",
      "dtypes: int64(301), object(1)\n",
      "memory usage: 460.2+ KB\n",
      "None\n"
     ]
    }
   ],
   "source": [
    "life_expectancy = pd.read_csv('life_expectancy.csv')\n",
    "print(life_expectancy.head())\n",
    "print(population.info())"
   ]
  },
  {
   "cell_type": "code",
   "execution_count": 8,
   "metadata": {},
   "outputs": [
    {
     "name": "stdout",
     "output_type": "stream",
     "text": [
      "(194, 215)\n",
      "(195, 242)\n",
      "(193, 242)\n",
      "(195, 302)\n",
      "(195, 302)\n",
      "(187, 302)\n"
     ]
    }
   ],
   "source": [
    "# Use shape method to evaluate the number of rows and columns contained in each DataFrame.\n",
    "print(tot_gdp.shape)\n",
    "print(gini.shape)\n",
    "print(income_per_person.shape)\n",
    "print(child_mortality.shape)\n",
    "print(population.shape)\n",
    "print(life_expectancy.shape)"
   ]
  },
  {
   "cell_type": "markdown",
   "metadata": {},
   "source": [
    "From above we can notice that all the data starts from the year 1800. However, while the tot_gdp dataframe contains entries until 2013, two dataframes, (`gini` and `income_per_person`) contain projections until the year 2040, and the last three (`child_mortality`,`population` and `life expectancy`) until the year 2100. For the purpose of this project, which is to investigate how the world has changed in the last 200 years, we just need two years: `1800` and `2000`. I dealt with this issue in the following section. \n",
    "\n",
    "The DataFrames contain a similar number of rows, which vary by less then 10 entries. This makes it easier to merge it later in a single DataFrame. \n",
    "\n",
    "Let's now check how many null values and duplicates are present in the various DataFrames."
   ]
  },
  {
   "cell_type": "code",
   "execution_count": 9,
   "metadata": {},
   "outputs": [
    {
     "name": "stdout",
     "output_type": "stream",
     "text": [
      "42\n",
      "0\n",
      "0\n",
      "1650\n",
      "0\n",
      "759\n"
     ]
    }
   ],
   "source": [
    "#Check null values\n",
    "print(tot_gdp.isnull().sum().sum())\n",
    "print(gini.isnull().sum().sum())\n",
    "print(income_per_person.isnull().sum().sum())\n",
    "print(child_mortality.isnull().sum().sum())\n",
    "print(population.isnull().sum().sum())\n",
    "print(life_expectancy.isnull().sum().sum())"
   ]
  },
  {
   "cell_type": "markdown",
   "metadata": {},
   "source": [
    "As we can see, only the `tot_gdp`, `child_mortality` and `life_expectancy` dataframes contains null values. In the next section, we will proceed identifying which values are missing, and how we should deal with them.\n"
   ]
  },
  {
   "cell_type": "code",
   "execution_count": 10,
   "metadata": {},
   "outputs": [
    {
     "name": "stdout",
     "output_type": "stream",
     "text": [
      "0\n",
      "0\n",
      "0\n",
      "0\n",
      "0\n",
      "0\n"
     ]
    }
   ],
   "source": [
    "#Check if DataFrames contain duplicated values\n",
    "print(tot_gdp.duplicated().sum())\n",
    "print(gini.duplicated().sum())\n",
    "print(income_per_person.duplicated().sum())\n",
    "print(child_mortality.duplicated().sum())\n",
    "print(population.duplicated().sum())\n",
    "print(life_expectancy.duplicated().sum())"
   ]
  },
  {
   "cell_type": "markdown",
   "metadata": {},
   "source": [
    "Since there are not duplicated columns in our DataFrames, we don't have to worry about them."
   ]
  },
  {
   "cell_type": "markdown",
   "metadata": {},
   "source": [
    "### Data Cleaning (reshaping data, merging DataFrames)"
   ]
  },
  {
   "cell_type": "markdown",
   "metadata": {},
   "source": [
    "In this section I cleaned and reshaped the data and merged the various DataFrames in a single Dataframe. \n",
    "\n",
    "The first thing I did is to use the melt function to reshape our data to have all years under a single column called `year`, and the single variable under another column."
   ]
  },
  {
   "cell_type": "code",
   "execution_count": 11,
   "metadata": {},
   "outputs": [
    {
     "data": {
      "text/html": [
       "<div>\n",
       "<style scoped>\n",
       "    .dataframe tbody tr th:only-of-type {\n",
       "        vertical-align: middle;\n",
       "    }\n",
       "\n",
       "    .dataframe tbody tr th {\n",
       "        vertical-align: top;\n",
       "    }\n",
       "\n",
       "    .dataframe thead th {\n",
       "        text-align: right;\n",
       "    }\n",
       "</style>\n",
       "<table border=\"1\" class=\"dataframe\">\n",
       "  <thead>\n",
       "    <tr style=\"text-align: right;\">\n",
       "      <th></th>\n",
       "      <th>country</th>\n",
       "      <th>year</th>\n",
       "      <th>gdp</th>\n",
       "    </tr>\n",
       "  </thead>\n",
       "  <tbody>\n",
       "    <tr>\n",
       "      <th>0</th>\n",
       "      <td>Afghanistan</td>\n",
       "      <td>1800</td>\n",
       "      <td>2.080000e+09</td>\n",
       "    </tr>\n",
       "    <tr>\n",
       "      <th>1</th>\n",
       "      <td>Albania</td>\n",
       "      <td>1800</td>\n",
       "      <td>3.260000e+08</td>\n",
       "    </tr>\n",
       "    <tr>\n",
       "      <th>2</th>\n",
       "      <td>Algeria</td>\n",
       "      <td>1800</td>\n",
       "      <td>3.810000e+09</td>\n",
       "    </tr>\n",
       "    <tr>\n",
       "      <th>3</th>\n",
       "      <td>Andorra</td>\n",
       "      <td>1800</td>\n",
       "      <td>3.340000e+06</td>\n",
       "    </tr>\n",
       "    <tr>\n",
       "      <th>4</th>\n",
       "      <td>Angola</td>\n",
       "      <td>1800</td>\n",
       "      <td>1.020000e+09</td>\n",
       "    </tr>\n",
       "  </tbody>\n",
       "</table>\n",
       "</div>"
      ],
      "text/plain": [
       "       country  year           gdp\n",
       "0  Afghanistan  1800  2.080000e+09\n",
       "1      Albania  1800  3.260000e+08\n",
       "2      Algeria  1800  3.810000e+09\n",
       "3      Andorra  1800  3.340000e+06\n",
       "4       Angola  1800  1.020000e+09"
      ]
     },
     "execution_count": 11,
     "metadata": {},
     "output_type": "execute_result"
    }
   ],
   "source": [
    "tot_gdp = tot_gdp.melt(id_vars=[\"country\"], var_name=\"year\", value_name=\"gdp\")\n",
    "\n",
    "tot_gdp.head()"
   ]
  },
  {
   "cell_type": "code",
   "execution_count": 12,
   "metadata": {
    "scrolled": true
   },
   "outputs": [
    {
     "data": {
      "text/html": [
       "<div>\n",
       "<style scoped>\n",
       "    .dataframe tbody tr th:only-of-type {\n",
       "        vertical-align: middle;\n",
       "    }\n",
       "\n",
       "    .dataframe tbody tr th {\n",
       "        vertical-align: top;\n",
       "    }\n",
       "\n",
       "    .dataframe thead th {\n",
       "        text-align: right;\n",
       "    }\n",
       "</style>\n",
       "<table border=\"1\" class=\"dataframe\">\n",
       "  <thead>\n",
       "    <tr style=\"text-align: right;\">\n",
       "      <th></th>\n",
       "      <th>country</th>\n",
       "      <th>year</th>\n",
       "      <th>income_per_person</th>\n",
       "    </tr>\n",
       "  </thead>\n",
       "  <tbody>\n",
       "    <tr>\n",
       "      <th>0</th>\n",
       "      <td>Afghanistan</td>\n",
       "      <td>1800</td>\n",
       "      <td>603</td>\n",
       "    </tr>\n",
       "    <tr>\n",
       "      <th>1</th>\n",
       "      <td>Albania</td>\n",
       "      <td>1800</td>\n",
       "      <td>667</td>\n",
       "    </tr>\n",
       "    <tr>\n",
       "      <th>2</th>\n",
       "      <td>Algeria</td>\n",
       "      <td>1800</td>\n",
       "      <td>715</td>\n",
       "    </tr>\n",
       "    <tr>\n",
       "      <th>3</th>\n",
       "      <td>Andorra</td>\n",
       "      <td>1800</td>\n",
       "      <td>1200</td>\n",
       "    </tr>\n",
       "    <tr>\n",
       "      <th>4</th>\n",
       "      <td>Angola</td>\n",
       "      <td>1800</td>\n",
       "      <td>618</td>\n",
       "    </tr>\n",
       "  </tbody>\n",
       "</table>\n",
       "</div>"
      ],
      "text/plain": [
       "       country  year  income_per_person\n",
       "0  Afghanistan  1800                603\n",
       "1      Albania  1800                667\n",
       "2      Algeria  1800                715\n",
       "3      Andorra  1800               1200\n",
       "4       Angola  1800                618"
      ]
     },
     "execution_count": 12,
     "metadata": {},
     "output_type": "execute_result"
    }
   ],
   "source": [
    "income_per_person = income_per_person.melt(id_vars=[\"country\"], var_name=\"year\", value_name=\"income_per_person\")\n",
    "\n",
    "income_per_person.head()"
   ]
  },
  {
   "cell_type": "code",
   "execution_count": 13,
   "metadata": {},
   "outputs": [
    {
     "data": {
      "text/html": [
       "<div>\n",
       "<style scoped>\n",
       "    .dataframe tbody tr th:only-of-type {\n",
       "        vertical-align: middle;\n",
       "    }\n",
       "\n",
       "    .dataframe tbody tr th {\n",
       "        vertical-align: top;\n",
       "    }\n",
       "\n",
       "    .dataframe thead th {\n",
       "        text-align: right;\n",
       "    }\n",
       "</style>\n",
       "<table border=\"1\" class=\"dataframe\">\n",
       "  <thead>\n",
       "    <tr style=\"text-align: right;\">\n",
       "      <th></th>\n",
       "      <th>country</th>\n",
       "      <th>year</th>\n",
       "      <th>gini</th>\n",
       "    </tr>\n",
       "  </thead>\n",
       "  <tbody>\n",
       "    <tr>\n",
       "      <th>0</th>\n",
       "      <td>Afghanistan</td>\n",
       "      <td>1800</td>\n",
       "      <td>30.5</td>\n",
       "    </tr>\n",
       "    <tr>\n",
       "      <th>1</th>\n",
       "      <td>Albania</td>\n",
       "      <td>1800</td>\n",
       "      <td>38.9</td>\n",
       "    </tr>\n",
       "    <tr>\n",
       "      <th>2</th>\n",
       "      <td>Algeria</td>\n",
       "      <td>1800</td>\n",
       "      <td>56.2</td>\n",
       "    </tr>\n",
       "    <tr>\n",
       "      <th>3</th>\n",
       "      <td>Andorra</td>\n",
       "      <td>1800</td>\n",
       "      <td>40.0</td>\n",
       "    </tr>\n",
       "    <tr>\n",
       "      <th>4</th>\n",
       "      <td>Angola</td>\n",
       "      <td>1800</td>\n",
       "      <td>57.2</td>\n",
       "    </tr>\n",
       "  </tbody>\n",
       "</table>\n",
       "</div>"
      ],
      "text/plain": [
       "       country  year  gini\n",
       "0  Afghanistan  1800  30.5\n",
       "1      Albania  1800  38.9\n",
       "2      Algeria  1800  56.2\n",
       "3      Andorra  1800  40.0\n",
       "4       Angola  1800  57.2"
      ]
     },
     "execution_count": 13,
     "metadata": {},
     "output_type": "execute_result"
    }
   ],
   "source": [
    "gini = gini.melt(id_vars=[\"country\"], var_name=\"year\", value_name=\"gini\")\n",
    "\n",
    "gini.head()"
   ]
  },
  {
   "cell_type": "code",
   "execution_count": 14,
   "metadata": {},
   "outputs": [
    {
     "data": {
      "text/html": [
       "<div>\n",
       "<style scoped>\n",
       "    .dataframe tbody tr th:only-of-type {\n",
       "        vertical-align: middle;\n",
       "    }\n",
       "\n",
       "    .dataframe tbody tr th {\n",
       "        vertical-align: top;\n",
       "    }\n",
       "\n",
       "    .dataframe thead th {\n",
       "        text-align: right;\n",
       "    }\n",
       "</style>\n",
       "<table border=\"1\" class=\"dataframe\">\n",
       "  <thead>\n",
       "    <tr style=\"text-align: right;\">\n",
       "      <th></th>\n",
       "      <th>country</th>\n",
       "      <th>year</th>\n",
       "      <th>child_mortality</th>\n",
       "    </tr>\n",
       "  </thead>\n",
       "  <tbody>\n",
       "    <tr>\n",
       "      <th>0</th>\n",
       "      <td>Afghanistan</td>\n",
       "      <td>1800</td>\n",
       "      <td>469.0</td>\n",
       "    </tr>\n",
       "    <tr>\n",
       "      <th>1</th>\n",
       "      <td>Albania</td>\n",
       "      <td>1800</td>\n",
       "      <td>375.0</td>\n",
       "    </tr>\n",
       "    <tr>\n",
       "      <th>2</th>\n",
       "      <td>Algeria</td>\n",
       "      <td>1800</td>\n",
       "      <td>460.0</td>\n",
       "    </tr>\n",
       "    <tr>\n",
       "      <th>3</th>\n",
       "      <td>Andorra</td>\n",
       "      <td>1800</td>\n",
       "      <td>NaN</td>\n",
       "    </tr>\n",
       "    <tr>\n",
       "      <th>4</th>\n",
       "      <td>Angola</td>\n",
       "      <td>1800</td>\n",
       "      <td>486.0</td>\n",
       "    </tr>\n",
       "  </tbody>\n",
       "</table>\n",
       "</div>"
      ],
      "text/plain": [
       "       country  year  child_mortality\n",
       "0  Afghanistan  1800            469.0\n",
       "1      Albania  1800            375.0\n",
       "2      Algeria  1800            460.0\n",
       "3      Andorra  1800              NaN\n",
       "4       Angola  1800            486.0"
      ]
     },
     "execution_count": 14,
     "metadata": {},
     "output_type": "execute_result"
    }
   ],
   "source": [
    "child_mortality = child_mortality.melt(id_vars=[\"country\"], var_name=\"year\", value_name=\"child_mortality\")\n",
    "\n",
    "child_mortality.head()"
   ]
  },
  {
   "cell_type": "code",
   "execution_count": 15,
   "metadata": {},
   "outputs": [
    {
     "data": {
      "text/html": [
       "<div>\n",
       "<style scoped>\n",
       "    .dataframe tbody tr th:only-of-type {\n",
       "        vertical-align: middle;\n",
       "    }\n",
       "\n",
       "    .dataframe tbody tr th {\n",
       "        vertical-align: top;\n",
       "    }\n",
       "\n",
       "    .dataframe thead th {\n",
       "        text-align: right;\n",
       "    }\n",
       "</style>\n",
       "<table border=\"1\" class=\"dataframe\">\n",
       "  <thead>\n",
       "    <tr style=\"text-align: right;\">\n",
       "      <th></th>\n",
       "      <th>country</th>\n",
       "      <th>year</th>\n",
       "      <th>population</th>\n",
       "    </tr>\n",
       "  </thead>\n",
       "  <tbody>\n",
       "    <tr>\n",
       "      <th>0</th>\n",
       "      <td>Afghanistan</td>\n",
       "      <td>1800</td>\n",
       "      <td>3280000</td>\n",
       "    </tr>\n",
       "    <tr>\n",
       "      <th>1</th>\n",
       "      <td>Albania</td>\n",
       "      <td>1800</td>\n",
       "      <td>400000</td>\n",
       "    </tr>\n",
       "    <tr>\n",
       "      <th>2</th>\n",
       "      <td>Algeria</td>\n",
       "      <td>1800</td>\n",
       "      <td>2500000</td>\n",
       "    </tr>\n",
       "    <tr>\n",
       "      <th>3</th>\n",
       "      <td>Andorra</td>\n",
       "      <td>1800</td>\n",
       "      <td>2650</td>\n",
       "    </tr>\n",
       "    <tr>\n",
       "      <th>4</th>\n",
       "      <td>Angola</td>\n",
       "      <td>1800</td>\n",
       "      <td>1570000</td>\n",
       "    </tr>\n",
       "  </tbody>\n",
       "</table>\n",
       "</div>"
      ],
      "text/plain": [
       "       country  year  population\n",
       "0  Afghanistan  1800     3280000\n",
       "1      Albania  1800      400000\n",
       "2      Algeria  1800     2500000\n",
       "3      Andorra  1800        2650\n",
       "4       Angola  1800     1570000"
      ]
     },
     "execution_count": 15,
     "metadata": {},
     "output_type": "execute_result"
    }
   ],
   "source": [
    "population = population.melt(id_vars=[\"country\"], var_name=\"year\", value_name=\"population\")\n",
    "\n",
    "population.head()"
   ]
  },
  {
   "cell_type": "code",
   "execution_count": 16,
   "metadata": {},
   "outputs": [
    {
     "data": {
      "text/html": [
       "<div>\n",
       "<style scoped>\n",
       "    .dataframe tbody tr th:only-of-type {\n",
       "        vertical-align: middle;\n",
       "    }\n",
       "\n",
       "    .dataframe tbody tr th {\n",
       "        vertical-align: top;\n",
       "    }\n",
       "\n",
       "    .dataframe thead th {\n",
       "        text-align: right;\n",
       "    }\n",
       "</style>\n",
       "<table border=\"1\" class=\"dataframe\">\n",
       "  <thead>\n",
       "    <tr style=\"text-align: right;\">\n",
       "      <th></th>\n",
       "      <th>country</th>\n",
       "      <th>year</th>\n",
       "      <th>life_expectancy</th>\n",
       "    </tr>\n",
       "  </thead>\n",
       "  <tbody>\n",
       "    <tr>\n",
       "      <th>0</th>\n",
       "      <td>Afghanistan</td>\n",
       "      <td>1800</td>\n",
       "      <td>28.2</td>\n",
       "    </tr>\n",
       "    <tr>\n",
       "      <th>1</th>\n",
       "      <td>Albania</td>\n",
       "      <td>1800</td>\n",
       "      <td>35.4</td>\n",
       "    </tr>\n",
       "    <tr>\n",
       "      <th>2</th>\n",
       "      <td>Algeria</td>\n",
       "      <td>1800</td>\n",
       "      <td>28.8</td>\n",
       "    </tr>\n",
       "    <tr>\n",
       "      <th>3</th>\n",
       "      <td>Andorra</td>\n",
       "      <td>1800</td>\n",
       "      <td>NaN</td>\n",
       "    </tr>\n",
       "    <tr>\n",
       "      <th>4</th>\n",
       "      <td>Angola</td>\n",
       "      <td>1800</td>\n",
       "      <td>27.0</td>\n",
       "    </tr>\n",
       "  </tbody>\n",
       "</table>\n",
       "</div>"
      ],
      "text/plain": [
       "       country  year  life_expectancy\n",
       "0  Afghanistan  1800             28.2\n",
       "1      Albania  1800             35.4\n",
       "2      Algeria  1800             28.8\n",
       "3      Andorra  1800              NaN\n",
       "4       Angola  1800             27.0"
      ]
     },
     "execution_count": 16,
     "metadata": {},
     "output_type": "execute_result"
    }
   ],
   "source": [
    "life_expectancy = life_expectancy.melt(id_vars=[\"country\"], var_name=\"year\", value_name=\"life_expectancy\")\n",
    "\n",
    "life_expectancy.head()"
   ]
  },
  {
   "cell_type": "markdown",
   "metadata": {},
   "source": [
    "To map each region with the respective countries, I converted the region excel file available on the [gapminder website](https://www.gapminder.org/fw/four-regions/) to a csv_file, and imported here."
   ]
  },
  {
   "cell_type": "code",
   "execution_count": 17,
   "metadata": {},
   "outputs": [
    {
     "name": "stdout",
     "output_type": "stream",
     "text": [
      "       country  region\n",
      "0  Afghanistan    asia\n",
      "1      Albania  europe\n",
      "2      Algeria  africa\n",
      "3      Andorra  europe\n",
      "4       Angola  africa\n"
     ]
    }
   ],
   "source": [
    "regions = pd.read_csv('regions.csv')\n",
    "regions.head()\n",
    "regions.rename(columns={\"name\":\"country\",\"four_regions\":\"region\"},inplace=True)\n",
    "print(regions.head())"
   ]
  },
  {
   "cell_type": "markdown",
   "metadata": {},
   "source": [
    "Now I will combine the single Dataframes into a single one, using the merge function on the `country` and `year` columns."
   ]
  },
  {
   "cell_type": "code",
   "execution_count": 18,
   "metadata": {},
   "outputs": [],
   "source": [
    "first_merge = pd.merge(tot_gdp, income_per_person, on=('country','year'))\n",
    "second_merge = pd.merge(gini, regions, on='country')\n",
    "third_merge = pd.merge(child_mortality,population, on = ('country','year'))\n",
    "fourth_merge = pd.merge(third_merge,life_expectancy,on = ('country','year'))\n",
    "fifth_merge = pd.merge(first_merge,second_merge, on = ('country','year'))\n",
    "gapminder = pd.merge(fifth_merge,fourth_merge, on = ('country','year'))"
   ]
  },
  {
   "cell_type": "markdown",
   "metadata": {},
   "source": [
    "Let's now use `describe.()` to print out some general statistics about our data. "
   ]
  },
  {
   "cell_type": "code",
   "execution_count": 19,
   "metadata": {},
   "outputs": [
    {
     "name": "stdout",
     "output_type": "stream",
     "text": [
      "                gdp  income_per_person          gini  child_mortality  \\\n",
      "count  3.977800e+04       39804.000000  39804.000000     39354.000000   \n",
      "mean   7.864310e+10        4376.896342     40.109079       295.757032   \n",
      "std    5.026841e+11        9857.007981      9.146369       158.662528   \n",
      "min    3.260000e+06         245.000000     16.000000         2.340000   \n",
      "25%    4.910000e+08         844.000000     34.100000       154.000000   \n",
      "50%    2.660000e+09        1475.000000     40.000000       361.000000   \n",
      "75%    1.790000e+10        3380.000000     45.000000       421.000000   \n",
      "max    1.640000e+13      179000.000000     79.900000       756.000000   \n",
      "\n",
      "         population  life_expectancy  \n",
      "count  3.980400e+04     39294.000000  \n",
      "mean   1.320603e+07        42.439170  \n",
      "std    6.349871e+07        15.884172  \n",
      "min    2.260000e+03         1.010000  \n",
      "25%    3.530000e+05        31.100000  \n",
      "50%    1.900000e+06        35.200000  \n",
      "75%    6.210000e+06        54.000000  \n",
      "max    1.390000e+09        83.900000  \n"
     ]
    }
   ],
   "source": [
    "print(gapminder.describe())"
   ]
  },
  {
   "cell_type": "markdown",
   "metadata": {},
   "source": [
    "These statistics are not particularly useful, since they are based on an aggregate of countries over 200 years of data. However, we can notice few interesting aspects, such as the fact that the `life_expectancy``min` value is 1, most probably an error in the data, and the `child_mortality max` is 756. This mean that there is a country which, in a single year had 76% of children died under 5 years old."
   ]
  },
  {
   "cell_type": "code",
   "execution_count": 20,
   "metadata": {},
   "outputs": [
    {
     "name": "stdout",
     "output_type": "stream",
     "text": [
      "<class 'pandas.core.frame.DataFrame'>\n",
      "Int64Index: 39804 entries, 0 to 39803\n",
      "Data columns (total 9 columns):\n",
      "country              39804 non-null object\n",
      "year                 39804 non-null object\n",
      "gdp                  39778 non-null float64\n",
      "income_per_person    39804 non-null int64\n",
      "gini                 39804 non-null float64\n",
      "region               39804 non-null object\n",
      "child_mortality      39354 non-null float64\n",
      "population           39804 non-null int64\n",
      "life_expectancy      39294 non-null float64\n",
      "dtypes: float64(4), int64(2), object(3)\n",
      "memory usage: 3.0+ MB\n"
     ]
    }
   ],
   "source": [
    "gapminder.info()"
   ]
  },
  {
   "cell_type": "markdown",
   "metadata": {},
   "source": [
    "From the `.info()` method used above, we can notice that the DataFrame contains some null values. Let's investigate more this issue."
   ]
  },
  {
   "cell_type": "code",
   "execution_count": 21,
   "metadata": {},
   "outputs": [
    {
     "data": {
      "text/plain": [
       "country                0\n",
       "year                   0\n",
       "gdp                   26\n",
       "income_per_person      0\n",
       "gini                   0\n",
       "region                 0\n",
       "child_mortality      450\n",
       "population             0\n",
       "life_expectancy      510\n",
       "dtype: int64"
      ]
     },
     "execution_count": 21,
     "metadata": {},
     "output_type": "execute_result"
    }
   ],
   "source": [
    "gapminder.isna().sum()"
   ]
  },
  {
   "cell_type": "markdown",
   "metadata": {},
   "source": [
    "The `gdp`, `child_mortality` and `life_expectancy` columns contains some missing data. Are these missing values important? We can answer this question by subsetting the DataFrames where the variables are null."
   ]
  },
  {
   "cell_type": "code",
   "execution_count": 22,
   "metadata": {},
   "outputs": [
    {
     "data": {
      "text/html": [
       "<div>\n",
       "<style scoped>\n",
       "    .dataframe tbody tr th:only-of-type {\n",
       "        vertical-align: middle;\n",
       "    }\n",
       "\n",
       "    .dataframe tbody tr th {\n",
       "        vertical-align: top;\n",
       "    }\n",
       "\n",
       "    .dataframe thead th {\n",
       "        text-align: right;\n",
       "    }\n",
       "</style>\n",
       "<table border=\"1\" class=\"dataframe\">\n",
       "  <thead>\n",
       "    <tr style=\"text-align: right;\">\n",
       "      <th></th>\n",
       "      <th>country</th>\n",
       "      <th>year</th>\n",
       "      <th>gdp</th>\n",
       "      <th>income_per_person</th>\n",
       "      <th>gini</th>\n",
       "      <th>region</th>\n",
       "      <th>child_mortality</th>\n",
       "      <th>population</th>\n",
       "      <th>life_expectancy</th>\n",
       "    </tr>\n",
       "  </thead>\n",
       "  <tbody>\n",
       "    <tr>\n",
       "      <th>83</th>\n",
       "      <td>Japan</td>\n",
       "      <td>1800</td>\n",
       "      <td>NaN</td>\n",
       "      <td>1010</td>\n",
       "      <td>46.8</td>\n",
       "      <td>asia</td>\n",
       "      <td>363.00</td>\n",
       "      <td>28000000</td>\n",
       "      <td>36.4</td>\n",
       "    </tr>\n",
       "    <tr>\n",
       "      <th>269</th>\n",
       "      <td>Japan</td>\n",
       "      <td>1801</td>\n",
       "      <td>NaN</td>\n",
       "      <td>1010</td>\n",
       "      <td>46.8</td>\n",
       "      <td>asia</td>\n",
       "      <td>363.00</td>\n",
       "      <td>28100000</td>\n",
       "      <td>36.4</td>\n",
       "    </tr>\n",
       "    <tr>\n",
       "      <th>455</th>\n",
       "      <td>Japan</td>\n",
       "      <td>1802</td>\n",
       "      <td>NaN</td>\n",
       "      <td>1010</td>\n",
       "      <td>46.8</td>\n",
       "      <td>asia</td>\n",
       "      <td>363.00</td>\n",
       "      <td>28300000</td>\n",
       "      <td>36.4</td>\n",
       "    </tr>\n",
       "    <tr>\n",
       "      <th>641</th>\n",
       "      <td>Japan</td>\n",
       "      <td>1803</td>\n",
       "      <td>NaN</td>\n",
       "      <td>1010</td>\n",
       "      <td>46.8</td>\n",
       "      <td>asia</td>\n",
       "      <td>363.00</td>\n",
       "      <td>28400000</td>\n",
       "      <td>36.4</td>\n",
       "    </tr>\n",
       "    <tr>\n",
       "      <th>827</th>\n",
       "      <td>Japan</td>\n",
       "      <td>1804</td>\n",
       "      <td>NaN</td>\n",
       "      <td>1010</td>\n",
       "      <td>46.8</td>\n",
       "      <td>asia</td>\n",
       "      <td>363.00</td>\n",
       "      <td>28600000</td>\n",
       "      <td>36.4</td>\n",
       "    </tr>\n",
       "    <tr>\n",
       "      <th>1013</th>\n",
       "      <td>Japan</td>\n",
       "      <td>1805</td>\n",
       "      <td>NaN</td>\n",
       "      <td>1020</td>\n",
       "      <td>46.8</td>\n",
       "      <td>asia</td>\n",
       "      <td>363.00</td>\n",
       "      <td>28700000</td>\n",
       "      <td>36.4</td>\n",
       "    </tr>\n",
       "    <tr>\n",
       "      <th>1199</th>\n",
       "      <td>Japan</td>\n",
       "      <td>1806</td>\n",
       "      <td>NaN</td>\n",
       "      <td>1020</td>\n",
       "      <td>46.8</td>\n",
       "      <td>asia</td>\n",
       "      <td>363.00</td>\n",
       "      <td>28900000</td>\n",
       "      <td>36.4</td>\n",
       "    </tr>\n",
       "    <tr>\n",
       "      <th>1385</th>\n",
       "      <td>Japan</td>\n",
       "      <td>1807</td>\n",
       "      <td>NaN</td>\n",
       "      <td>1020</td>\n",
       "      <td>46.8</td>\n",
       "      <td>asia</td>\n",
       "      <td>363.00</td>\n",
       "      <td>29000000</td>\n",
       "      <td>36.4</td>\n",
       "    </tr>\n",
       "    <tr>\n",
       "      <th>1571</th>\n",
       "      <td>Japan</td>\n",
       "      <td>1808</td>\n",
       "      <td>NaN</td>\n",
       "      <td>1020</td>\n",
       "      <td>46.8</td>\n",
       "      <td>asia</td>\n",
       "      <td>363.00</td>\n",
       "      <td>29200000</td>\n",
       "      <td>36.4</td>\n",
       "    </tr>\n",
       "    <tr>\n",
       "      <th>1757</th>\n",
       "      <td>Japan</td>\n",
       "      <td>1809</td>\n",
       "      <td>NaN</td>\n",
       "      <td>1020</td>\n",
       "      <td>46.8</td>\n",
       "      <td>asia</td>\n",
       "      <td>363.00</td>\n",
       "      <td>29300000</td>\n",
       "      <td>36.4</td>\n",
       "    </tr>\n",
       "    <tr>\n",
       "      <th>1943</th>\n",
       "      <td>Japan</td>\n",
       "      <td>1810</td>\n",
       "      <td>NaN</td>\n",
       "      <td>1020</td>\n",
       "      <td>46.8</td>\n",
       "      <td>asia</td>\n",
       "      <td>363.00</td>\n",
       "      <td>29500000</td>\n",
       "      <td>36.4</td>\n",
       "    </tr>\n",
       "    <tr>\n",
       "      <th>2129</th>\n",
       "      <td>Japan</td>\n",
       "      <td>1811</td>\n",
       "      <td>NaN</td>\n",
       "      <td>1020</td>\n",
       "      <td>46.8</td>\n",
       "      <td>asia</td>\n",
       "      <td>363.00</td>\n",
       "      <td>29600000</td>\n",
       "      <td>36.4</td>\n",
       "    </tr>\n",
       "    <tr>\n",
       "      <th>2315</th>\n",
       "      <td>Japan</td>\n",
       "      <td>1812</td>\n",
       "      <td>NaN</td>\n",
       "      <td>1020</td>\n",
       "      <td>46.8</td>\n",
       "      <td>asia</td>\n",
       "      <td>363.00</td>\n",
       "      <td>29800000</td>\n",
       "      <td>36.4</td>\n",
       "    </tr>\n",
       "    <tr>\n",
       "      <th>2501</th>\n",
       "      <td>Japan</td>\n",
       "      <td>1813</td>\n",
       "      <td>NaN</td>\n",
       "      <td>1030</td>\n",
       "      <td>46.8</td>\n",
       "      <td>asia</td>\n",
       "      <td>363.00</td>\n",
       "      <td>29900000</td>\n",
       "      <td>36.4</td>\n",
       "    </tr>\n",
       "    <tr>\n",
       "      <th>2687</th>\n",
       "      <td>Japan</td>\n",
       "      <td>1814</td>\n",
       "      <td>NaN</td>\n",
       "      <td>1030</td>\n",
       "      <td>46.8</td>\n",
       "      <td>asia</td>\n",
       "      <td>363.00</td>\n",
       "      <td>30100000</td>\n",
       "      <td>36.4</td>\n",
       "    </tr>\n",
       "    <tr>\n",
       "      <th>2873</th>\n",
       "      <td>Japan</td>\n",
       "      <td>1815</td>\n",
       "      <td>NaN</td>\n",
       "      <td>1030</td>\n",
       "      <td>46.8</td>\n",
       "      <td>asia</td>\n",
       "      <td>363.00</td>\n",
       "      <td>30200000</td>\n",
       "      <td>36.4</td>\n",
       "    </tr>\n",
       "    <tr>\n",
       "      <th>3059</th>\n",
       "      <td>Japan</td>\n",
       "      <td>1816</td>\n",
       "      <td>NaN</td>\n",
       "      <td>1030</td>\n",
       "      <td>46.8</td>\n",
       "      <td>asia</td>\n",
       "      <td>363.00</td>\n",
       "      <td>30400000</td>\n",
       "      <td>36.4</td>\n",
       "    </tr>\n",
       "    <tr>\n",
       "      <th>3245</th>\n",
       "      <td>Japan</td>\n",
       "      <td>1817</td>\n",
       "      <td>NaN</td>\n",
       "      <td>1030</td>\n",
       "      <td>46.8</td>\n",
       "      <td>asia</td>\n",
       "      <td>363.00</td>\n",
       "      <td>30500000</td>\n",
       "      <td>36.4</td>\n",
       "    </tr>\n",
       "    <tr>\n",
       "      <th>3431</th>\n",
       "      <td>Japan</td>\n",
       "      <td>1818</td>\n",
       "      <td>NaN</td>\n",
       "      <td>1030</td>\n",
       "      <td>46.7</td>\n",
       "      <td>asia</td>\n",
       "      <td>363.00</td>\n",
       "      <td>30700000</td>\n",
       "      <td>36.4</td>\n",
       "    </tr>\n",
       "    <tr>\n",
       "      <th>3617</th>\n",
       "      <td>Japan</td>\n",
       "      <td>1819</td>\n",
       "      <td>NaN</td>\n",
       "      <td>1030</td>\n",
       "      <td>46.6</td>\n",
       "      <td>asia</td>\n",
       "      <td>363.00</td>\n",
       "      <td>30800000</td>\n",
       "      <td>36.4</td>\n",
       "    </tr>\n",
       "    <tr>\n",
       "      <th>39435</th>\n",
       "      <td>Andorra</td>\n",
       "      <td>2012</td>\n",
       "      <td>NaN</td>\n",
       "      <td>41900</td>\n",
       "      <td>40.0</td>\n",
       "      <td>europe</td>\n",
       "      <td>3.79</td>\n",
       "      <td>82400</td>\n",
       "      <td>82.4</td>\n",
       "    </tr>\n",
       "    <tr>\n",
       "      <th>39621</th>\n",
       "      <td>Andorra</td>\n",
       "      <td>2013</td>\n",
       "      <td>NaN</td>\n",
       "      <td>43700</td>\n",
       "      <td>40.0</td>\n",
       "      <td>europe</td>\n",
       "      <td>3.61</td>\n",
       "      <td>80800</td>\n",
       "      <td>82.5</td>\n",
       "    </tr>\n",
       "    <tr>\n",
       "      <th>39661</th>\n",
       "      <td>Cuba</td>\n",
       "      <td>2013</td>\n",
       "      <td>NaN</td>\n",
       "      <td>7380</td>\n",
       "      <td>43.4</td>\n",
       "      <td>americas</td>\n",
       "      <td>5.67</td>\n",
       "      <td>11300000</td>\n",
       "      <td>78.6</td>\n",
       "    </tr>\n",
       "    <tr>\n",
       "      <th>39740</th>\n",
       "      <td>North Korea</td>\n",
       "      <td>2013</td>\n",
       "      <td>NaN</td>\n",
       "      <td>1740</td>\n",
       "      <td>37.0</td>\n",
       "      <td>asia</td>\n",
       "      <td>24.00</td>\n",
       "      <td>24900000</td>\n",
       "      <td>71.3</td>\n",
       "    </tr>\n",
       "    <tr>\n",
       "      <th>39744</th>\n",
       "      <td>Palestine</td>\n",
       "      <td>2013</td>\n",
       "      <td>NaN</td>\n",
       "      <td>4560</td>\n",
       "      <td>34.2</td>\n",
       "      <td>asia</td>\n",
       "      <td>22.40</td>\n",
       "      <td>4330000</td>\n",
       "      <td>75.7</td>\n",
       "    </tr>\n",
       "    <tr>\n",
       "      <th>39780</th>\n",
       "      <td>Syria</td>\n",
       "      <td>2013</td>\n",
       "      <td>NaN</td>\n",
       "      <td>4120</td>\n",
       "      <td>35.2</td>\n",
       "      <td>asia</td>\n",
       "      <td>17.70</td>\n",
       "      <td>19600000</td>\n",
       "      <td>68.7</td>\n",
       "    </tr>\n",
       "  </tbody>\n",
       "</table>\n",
       "</div>"
      ],
      "text/plain": [
       "           country  year  gdp  income_per_person  gini    region  \\\n",
       "83           Japan  1800  NaN               1010  46.8      asia   \n",
       "269          Japan  1801  NaN               1010  46.8      asia   \n",
       "455          Japan  1802  NaN               1010  46.8      asia   \n",
       "641          Japan  1803  NaN               1010  46.8      asia   \n",
       "827          Japan  1804  NaN               1010  46.8      asia   \n",
       "1013         Japan  1805  NaN               1020  46.8      asia   \n",
       "1199         Japan  1806  NaN               1020  46.8      asia   \n",
       "1385         Japan  1807  NaN               1020  46.8      asia   \n",
       "1571         Japan  1808  NaN               1020  46.8      asia   \n",
       "1757         Japan  1809  NaN               1020  46.8      asia   \n",
       "1943         Japan  1810  NaN               1020  46.8      asia   \n",
       "2129         Japan  1811  NaN               1020  46.8      asia   \n",
       "2315         Japan  1812  NaN               1020  46.8      asia   \n",
       "2501         Japan  1813  NaN               1030  46.8      asia   \n",
       "2687         Japan  1814  NaN               1030  46.8      asia   \n",
       "2873         Japan  1815  NaN               1030  46.8      asia   \n",
       "3059         Japan  1816  NaN               1030  46.8      asia   \n",
       "3245         Japan  1817  NaN               1030  46.8      asia   \n",
       "3431         Japan  1818  NaN               1030  46.7      asia   \n",
       "3617         Japan  1819  NaN               1030  46.6      asia   \n",
       "39435      Andorra  2012  NaN              41900  40.0    europe   \n",
       "39621      Andorra  2013  NaN              43700  40.0    europe   \n",
       "39661         Cuba  2013  NaN               7380  43.4  americas   \n",
       "39740  North Korea  2013  NaN               1740  37.0      asia   \n",
       "39744    Palestine  2013  NaN               4560  34.2      asia   \n",
       "39780        Syria  2013  NaN               4120  35.2      asia   \n",
       "\n",
       "       child_mortality  population  life_expectancy  \n",
       "83              363.00    28000000             36.4  \n",
       "269             363.00    28100000             36.4  \n",
       "455             363.00    28300000             36.4  \n",
       "641             363.00    28400000             36.4  \n",
       "827             363.00    28600000             36.4  \n",
       "1013            363.00    28700000             36.4  \n",
       "1199            363.00    28900000             36.4  \n",
       "1385            363.00    29000000             36.4  \n",
       "1571            363.00    29200000             36.4  \n",
       "1757            363.00    29300000             36.4  \n",
       "1943            363.00    29500000             36.4  \n",
       "2129            363.00    29600000             36.4  \n",
       "2315            363.00    29800000             36.4  \n",
       "2501            363.00    29900000             36.4  \n",
       "2687            363.00    30100000             36.4  \n",
       "2873            363.00    30200000             36.4  \n",
       "3059            363.00    30400000             36.4  \n",
       "3245            363.00    30500000             36.4  \n",
       "3431            363.00    30700000             36.4  \n",
       "3617            363.00    30800000             36.4  \n",
       "39435             3.79       82400             82.4  \n",
       "39621             3.61       80800             82.5  \n",
       "39661             5.67    11300000             78.6  \n",
       "39740            24.00    24900000             71.3  \n",
       "39744            22.40     4330000             75.7  \n",
       "39780            17.70    19600000             68.7  "
      ]
     },
     "execution_count": 22,
     "metadata": {},
     "output_type": "execute_result"
    }
   ],
   "source": [
    "gapminder[gapminder['gdp'].isnull()]"
   ]
  },
  {
   "cell_type": "markdown",
   "metadata": {},
   "source": [
    "The `gdp` values are missing only for Japan from 1800 to 1819, Andorra from 2012 to 2013, Cuba 2013, North Korea 2013, Palestine 2013 and Syria 2013."
   ]
  },
  {
   "cell_type": "code",
   "execution_count": 23,
   "metadata": {},
   "outputs": [
    {
     "data": {
      "text/html": [
       "<div>\n",
       "<style scoped>\n",
       "    .dataframe tbody tr th:only-of-type {\n",
       "        vertical-align: middle;\n",
       "    }\n",
       "\n",
       "    .dataframe tbody tr th {\n",
       "        vertical-align: top;\n",
       "    }\n",
       "\n",
       "    .dataframe thead th {\n",
       "        text-align: right;\n",
       "    }\n",
       "</style>\n",
       "<table border=\"1\" class=\"dataframe\">\n",
       "  <thead>\n",
       "    <tr style=\"text-align: right;\">\n",
       "      <th></th>\n",
       "      <th>country</th>\n",
       "      <th>year</th>\n",
       "      <th>gdp</th>\n",
       "      <th>income_per_person</th>\n",
       "      <th>gini</th>\n",
       "      <th>region</th>\n",
       "      <th>child_mortality</th>\n",
       "      <th>population</th>\n",
       "      <th>life_expectancy</th>\n",
       "    </tr>\n",
       "  </thead>\n",
       "  <tbody>\n",
       "    <tr>\n",
       "      <th>3</th>\n",
       "      <td>Andorra</td>\n",
       "      <td>1800</td>\n",
       "      <td>3340000.0</td>\n",
       "      <td>1200</td>\n",
       "      <td>40.0</td>\n",
       "      <td>europe</td>\n",
       "      <td>NaN</td>\n",
       "      <td>2650</td>\n",
       "      <td>NaN</td>\n",
       "    </tr>\n",
       "    <tr>\n",
       "      <th>48</th>\n",
       "      <td>Dominica</td>\n",
       "      <td>1800</td>\n",
       "      <td>13300000.0</td>\n",
       "      <td>663</td>\n",
       "      <td>40.0</td>\n",
       "      <td>americas</td>\n",
       "      <td>NaN</td>\n",
       "      <td>20000</td>\n",
       "      <td>NaN</td>\n",
       "    </tr>\n",
       "    <tr>\n",
       "      <th>104</th>\n",
       "      <td>Marshall Islands</td>\n",
       "      <td>1800</td>\n",
       "      <td>3260000.0</td>\n",
       "      <td>539</td>\n",
       "      <td>40.0</td>\n",
       "      <td>asia</td>\n",
       "      <td>NaN</td>\n",
       "      <td>5830</td>\n",
       "      <td>NaN</td>\n",
       "    </tr>\n",
       "    <tr>\n",
       "      <th>189</th>\n",
       "      <td>Andorra</td>\n",
       "      <td>1801</td>\n",
       "      <td>3350000.0</td>\n",
       "      <td>1200</td>\n",
       "      <td>40.0</td>\n",
       "      <td>europe</td>\n",
       "      <td>NaN</td>\n",
       "      <td>2650</td>\n",
       "      <td>NaN</td>\n",
       "    </tr>\n",
       "    <tr>\n",
       "      <th>234</th>\n",
       "      <td>Dominica</td>\n",
       "      <td>1801</td>\n",
       "      <td>13300000.0</td>\n",
       "      <td>663</td>\n",
       "      <td>40.0</td>\n",
       "      <td>americas</td>\n",
       "      <td>NaN</td>\n",
       "      <td>20000</td>\n",
       "      <td>NaN</td>\n",
       "    </tr>\n",
       "    <tr>\n",
       "      <th>290</th>\n",
       "      <td>Marshall Islands</td>\n",
       "      <td>1801</td>\n",
       "      <td>3270000.0</td>\n",
       "      <td>539</td>\n",
       "      <td>40.0</td>\n",
       "      <td>asia</td>\n",
       "      <td>NaN</td>\n",
       "      <td>5830</td>\n",
       "      <td>NaN</td>\n",
       "    </tr>\n",
       "    <tr>\n",
       "      <th>375</th>\n",
       "      <td>Andorra</td>\n",
       "      <td>1802</td>\n",
       "      <td>3360000.0</td>\n",
       "      <td>1200</td>\n",
       "      <td>40.0</td>\n",
       "      <td>europe</td>\n",
       "      <td>NaN</td>\n",
       "      <td>2650</td>\n",
       "      <td>NaN</td>\n",
       "    </tr>\n",
       "    <tr>\n",
       "      <th>420</th>\n",
       "      <td>Dominica</td>\n",
       "      <td>1802</td>\n",
       "      <td>13300000.0</td>\n",
       "      <td>663</td>\n",
       "      <td>40.0</td>\n",
       "      <td>americas</td>\n",
       "      <td>NaN</td>\n",
       "      <td>20000</td>\n",
       "      <td>NaN</td>\n",
       "    </tr>\n",
       "    <tr>\n",
       "      <th>476</th>\n",
       "      <td>Marshall Islands</td>\n",
       "      <td>1802</td>\n",
       "      <td>3270000.0</td>\n",
       "      <td>540</td>\n",
       "      <td>40.0</td>\n",
       "      <td>asia</td>\n",
       "      <td>NaN</td>\n",
       "      <td>5830</td>\n",
       "      <td>NaN</td>\n",
       "    </tr>\n",
       "    <tr>\n",
       "      <th>561</th>\n",
       "      <td>Andorra</td>\n",
       "      <td>1803</td>\n",
       "      <td>3360000.0</td>\n",
       "      <td>1200</td>\n",
       "      <td>40.0</td>\n",
       "      <td>europe</td>\n",
       "      <td>NaN</td>\n",
       "      <td>2650</td>\n",
       "      <td>NaN</td>\n",
       "    </tr>\n",
       "    <tr>\n",
       "      <th>606</th>\n",
       "      <td>Dominica</td>\n",
       "      <td>1803</td>\n",
       "      <td>13300000.0</td>\n",
       "      <td>663</td>\n",
       "      <td>40.0</td>\n",
       "      <td>americas</td>\n",
       "      <td>NaN</td>\n",
       "      <td>20000</td>\n",
       "      <td>NaN</td>\n",
       "    </tr>\n",
       "    <tr>\n",
       "      <th>662</th>\n",
       "      <td>Marshall Islands</td>\n",
       "      <td>1803</td>\n",
       "      <td>3270000.0</td>\n",
       "      <td>540</td>\n",
       "      <td>40.0</td>\n",
       "      <td>asia</td>\n",
       "      <td>NaN</td>\n",
       "      <td>5830</td>\n",
       "      <td>NaN</td>\n",
       "    </tr>\n",
       "    <tr>\n",
       "      <th>747</th>\n",
       "      <td>Andorra</td>\n",
       "      <td>1804</td>\n",
       "      <td>3370000.0</td>\n",
       "      <td>1210</td>\n",
       "      <td>40.0</td>\n",
       "      <td>europe</td>\n",
       "      <td>NaN</td>\n",
       "      <td>2650</td>\n",
       "      <td>NaN</td>\n",
       "    </tr>\n",
       "    <tr>\n",
       "      <th>792</th>\n",
       "      <td>Dominica</td>\n",
       "      <td>1804</td>\n",
       "      <td>13300000.0</td>\n",
       "      <td>663</td>\n",
       "      <td>40.0</td>\n",
       "      <td>americas</td>\n",
       "      <td>NaN</td>\n",
       "      <td>20000</td>\n",
       "      <td>NaN</td>\n",
       "    </tr>\n",
       "    <tr>\n",
       "      <th>848</th>\n",
       "      <td>Marshall Islands</td>\n",
       "      <td>1804</td>\n",
       "      <td>3270000.0</td>\n",
       "      <td>540</td>\n",
       "      <td>40.0</td>\n",
       "      <td>asia</td>\n",
       "      <td>NaN</td>\n",
       "      <td>5830</td>\n",
       "      <td>NaN</td>\n",
       "    </tr>\n",
       "    <tr>\n",
       "      <th>933</th>\n",
       "      <td>Andorra</td>\n",
       "      <td>1805</td>\n",
       "      <td>3370000.0</td>\n",
       "      <td>1210</td>\n",
       "      <td>40.0</td>\n",
       "      <td>europe</td>\n",
       "      <td>NaN</td>\n",
       "      <td>2650</td>\n",
       "      <td>NaN</td>\n",
       "    </tr>\n",
       "    <tr>\n",
       "      <th>978</th>\n",
       "      <td>Dominica</td>\n",
       "      <td>1805</td>\n",
       "      <td>13300000.0</td>\n",
       "      <td>664</td>\n",
       "      <td>40.0</td>\n",
       "      <td>americas</td>\n",
       "      <td>NaN</td>\n",
       "      <td>20000</td>\n",
       "      <td>NaN</td>\n",
       "    </tr>\n",
       "    <tr>\n",
       "      <th>1034</th>\n",
       "      <td>Marshall Islands</td>\n",
       "      <td>1805</td>\n",
       "      <td>3270000.0</td>\n",
       "      <td>541</td>\n",
       "      <td>40.0</td>\n",
       "      <td>asia</td>\n",
       "      <td>NaN</td>\n",
       "      <td>5830</td>\n",
       "      <td>NaN</td>\n",
       "    </tr>\n",
       "    <tr>\n",
       "      <th>1119</th>\n",
       "      <td>Andorra</td>\n",
       "      <td>1806</td>\n",
       "      <td>3380000.0</td>\n",
       "      <td>1210</td>\n",
       "      <td>40.0</td>\n",
       "      <td>europe</td>\n",
       "      <td>NaN</td>\n",
       "      <td>2650</td>\n",
       "      <td>NaN</td>\n",
       "    </tr>\n",
       "    <tr>\n",
       "      <th>1164</th>\n",
       "      <td>Dominica</td>\n",
       "      <td>1806</td>\n",
       "      <td>13300000.0</td>\n",
       "      <td>664</td>\n",
       "      <td>40.0</td>\n",
       "      <td>americas</td>\n",
       "      <td>NaN</td>\n",
       "      <td>20000</td>\n",
       "      <td>NaN</td>\n",
       "    </tr>\n",
       "    <tr>\n",
       "      <th>1220</th>\n",
       "      <td>Marshall Islands</td>\n",
       "      <td>1806</td>\n",
       "      <td>3270000.0</td>\n",
       "      <td>541</td>\n",
       "      <td>40.0</td>\n",
       "      <td>asia</td>\n",
       "      <td>NaN</td>\n",
       "      <td>5830</td>\n",
       "      <td>NaN</td>\n",
       "    </tr>\n",
       "    <tr>\n",
       "      <th>1305</th>\n",
       "      <td>Andorra</td>\n",
       "      <td>1807</td>\n",
       "      <td>3380000.0</td>\n",
       "      <td>1210</td>\n",
       "      <td>40.0</td>\n",
       "      <td>europe</td>\n",
       "      <td>NaN</td>\n",
       "      <td>2650</td>\n",
       "      <td>NaN</td>\n",
       "    </tr>\n",
       "    <tr>\n",
       "      <th>1350</th>\n",
       "      <td>Dominica</td>\n",
       "      <td>1807</td>\n",
       "      <td>13300000.0</td>\n",
       "      <td>664</td>\n",
       "      <td>40.0</td>\n",
       "      <td>americas</td>\n",
       "      <td>NaN</td>\n",
       "      <td>20000</td>\n",
       "      <td>NaN</td>\n",
       "    </tr>\n",
       "    <tr>\n",
       "      <th>1406</th>\n",
       "      <td>Marshall Islands</td>\n",
       "      <td>1807</td>\n",
       "      <td>3270000.0</td>\n",
       "      <td>541</td>\n",
       "      <td>40.0</td>\n",
       "      <td>asia</td>\n",
       "      <td>NaN</td>\n",
       "      <td>5830</td>\n",
       "      <td>NaN</td>\n",
       "    </tr>\n",
       "    <tr>\n",
       "      <th>1491</th>\n",
       "      <td>Andorra</td>\n",
       "      <td>1808</td>\n",
       "      <td>3390000.0</td>\n",
       "      <td>1220</td>\n",
       "      <td>40.0</td>\n",
       "      <td>europe</td>\n",
       "      <td>NaN</td>\n",
       "      <td>2650</td>\n",
       "      <td>NaN</td>\n",
       "    </tr>\n",
       "    <tr>\n",
       "      <th>1536</th>\n",
       "      <td>Dominica</td>\n",
       "      <td>1808</td>\n",
       "      <td>13300000.0</td>\n",
       "      <td>664</td>\n",
       "      <td>40.0</td>\n",
       "      <td>americas</td>\n",
       "      <td>NaN</td>\n",
       "      <td>20000</td>\n",
       "      <td>NaN</td>\n",
       "    </tr>\n",
       "    <tr>\n",
       "      <th>1592</th>\n",
       "      <td>Marshall Islands</td>\n",
       "      <td>1808</td>\n",
       "      <td>3280000.0</td>\n",
       "      <td>542</td>\n",
       "      <td>40.0</td>\n",
       "      <td>asia</td>\n",
       "      <td>NaN</td>\n",
       "      <td>5830</td>\n",
       "      <td>NaN</td>\n",
       "    </tr>\n",
       "    <tr>\n",
       "      <th>1677</th>\n",
       "      <td>Andorra</td>\n",
       "      <td>1809</td>\n",
       "      <td>3400000.0</td>\n",
       "      <td>1220</td>\n",
       "      <td>40.0</td>\n",
       "      <td>europe</td>\n",
       "      <td>NaN</td>\n",
       "      <td>2650</td>\n",
       "      <td>NaN</td>\n",
       "    </tr>\n",
       "    <tr>\n",
       "      <th>1722</th>\n",
       "      <td>Dominica</td>\n",
       "      <td>1809</td>\n",
       "      <td>13300000.0</td>\n",
       "      <td>664</td>\n",
       "      <td>40.0</td>\n",
       "      <td>americas</td>\n",
       "      <td>NaN</td>\n",
       "      <td>20000</td>\n",
       "      <td>NaN</td>\n",
       "    </tr>\n",
       "    <tr>\n",
       "      <th>1778</th>\n",
       "      <td>Marshall Islands</td>\n",
       "      <td>1809</td>\n",
       "      <td>3280000.0</td>\n",
       "      <td>542</td>\n",
       "      <td>40.0</td>\n",
       "      <td>asia</td>\n",
       "      <td>NaN</td>\n",
       "      <td>5830</td>\n",
       "      <td>NaN</td>\n",
       "    </tr>\n",
       "    <tr>\n",
       "      <th>...</th>\n",
       "      <td>...</td>\n",
       "      <td>...</td>\n",
       "      <td>...</td>\n",
       "      <td>...</td>\n",
       "      <td>...</td>\n",
       "      <td>...</td>\n",
       "      <td>...</td>\n",
       "      <td>...</td>\n",
       "      <td>...</td>\n",
       "    </tr>\n",
       "    <tr>\n",
       "      <th>26043</th>\n",
       "      <td>Andorra</td>\n",
       "      <td>1940</td>\n",
       "      <td>61400000.0</td>\n",
       "      <td>5890</td>\n",
       "      <td>40.0</td>\n",
       "      <td>europe</td>\n",
       "      <td>NaN</td>\n",
       "      <td>5510</td>\n",
       "      <td>NaN</td>\n",
       "    </tr>\n",
       "    <tr>\n",
       "      <th>26088</th>\n",
       "      <td>Dominica</td>\n",
       "      <td>1940</td>\n",
       "      <td>82400000.0</td>\n",
       "      <td>1480</td>\n",
       "      <td>40.0</td>\n",
       "      <td>americas</td>\n",
       "      <td>NaN</td>\n",
       "      <td>47300</td>\n",
       "      <td>NaN</td>\n",
       "    </tr>\n",
       "    <tr>\n",
       "      <th>26144</th>\n",
       "      <td>Marshall Islands</td>\n",
       "      <td>1940</td>\n",
       "      <td>13400000.0</td>\n",
       "      <td>1080</td>\n",
       "      <td>40.0</td>\n",
       "      <td>asia</td>\n",
       "      <td>NaN</td>\n",
       "      <td>31400</td>\n",
       "      <td>NaN</td>\n",
       "    </tr>\n",
       "    <tr>\n",
       "      <th>26229</th>\n",
       "      <td>Andorra</td>\n",
       "      <td>1941</td>\n",
       "      <td>64100000.0</td>\n",
       "      <td>5990</td>\n",
       "      <td>40.0</td>\n",
       "      <td>europe</td>\n",
       "      <td>NaN</td>\n",
       "      <td>5570</td>\n",
       "      <td>NaN</td>\n",
       "    </tr>\n",
       "    <tr>\n",
       "      <th>26274</th>\n",
       "      <td>Dominica</td>\n",
       "      <td>1941</td>\n",
       "      <td>84500000.0</td>\n",
       "      <td>1490</td>\n",
       "      <td>40.0</td>\n",
       "      <td>americas</td>\n",
       "      <td>NaN</td>\n",
       "      <td>47700</td>\n",
       "      <td>NaN</td>\n",
       "    </tr>\n",
       "    <tr>\n",
       "      <th>26330</th>\n",
       "      <td>Marshall Islands</td>\n",
       "      <td>1941</td>\n",
       "      <td>13700000.0</td>\n",
       "      <td>1100</td>\n",
       "      <td>40.0</td>\n",
       "      <td>asia</td>\n",
       "      <td>NaN</td>\n",
       "      <td>28500</td>\n",
       "      <td>NaN</td>\n",
       "    </tr>\n",
       "    <tr>\n",
       "      <th>26415</th>\n",
       "      <td>Andorra</td>\n",
       "      <td>1942</td>\n",
       "      <td>67000000.0</td>\n",
       "      <td>6100</td>\n",
       "      <td>40.0</td>\n",
       "      <td>europe</td>\n",
       "      <td>NaN</td>\n",
       "      <td>5630</td>\n",
       "      <td>NaN</td>\n",
       "    </tr>\n",
       "    <tr>\n",
       "      <th>26460</th>\n",
       "      <td>Dominica</td>\n",
       "      <td>1942</td>\n",
       "      <td>86700000.0</td>\n",
       "      <td>1490</td>\n",
       "      <td>40.0</td>\n",
       "      <td>americas</td>\n",
       "      <td>NaN</td>\n",
       "      <td>48100</td>\n",
       "      <td>NaN</td>\n",
       "    </tr>\n",
       "    <tr>\n",
       "      <th>26516</th>\n",
       "      <td>Marshall Islands</td>\n",
       "      <td>1942</td>\n",
       "      <td>14200000.0</td>\n",
       "      <td>1130</td>\n",
       "      <td>40.0</td>\n",
       "      <td>asia</td>\n",
       "      <td>NaN</td>\n",
       "      <td>25900</td>\n",
       "      <td>NaN</td>\n",
       "    </tr>\n",
       "    <tr>\n",
       "      <th>26601</th>\n",
       "      <td>Andorra</td>\n",
       "      <td>1943</td>\n",
       "      <td>70000000.0</td>\n",
       "      <td>6200</td>\n",
       "      <td>40.0</td>\n",
       "      <td>europe</td>\n",
       "      <td>NaN</td>\n",
       "      <td>5690</td>\n",
       "      <td>NaN</td>\n",
       "    </tr>\n",
       "    <tr>\n",
       "      <th>26646</th>\n",
       "      <td>Dominica</td>\n",
       "      <td>1943</td>\n",
       "      <td>88900000.0</td>\n",
       "      <td>1490</td>\n",
       "      <td>40.0</td>\n",
       "      <td>americas</td>\n",
       "      <td>NaN</td>\n",
       "      <td>48400</td>\n",
       "      <td>NaN</td>\n",
       "    </tr>\n",
       "    <tr>\n",
       "      <th>26702</th>\n",
       "      <td>Marshall Islands</td>\n",
       "      <td>1943</td>\n",
       "      <td>14600000.0</td>\n",
       "      <td>1150</td>\n",
       "      <td>40.0</td>\n",
       "      <td>asia</td>\n",
       "      <td>NaN</td>\n",
       "      <td>23600</td>\n",
       "      <td>NaN</td>\n",
       "    </tr>\n",
       "    <tr>\n",
       "      <th>26787</th>\n",
       "      <td>Andorra</td>\n",
       "      <td>1944</td>\n",
       "      <td>73100000.0</td>\n",
       "      <td>6310</td>\n",
       "      <td>40.0</td>\n",
       "      <td>europe</td>\n",
       "      <td>NaN</td>\n",
       "      <td>5750</td>\n",
       "      <td>NaN</td>\n",
       "    </tr>\n",
       "    <tr>\n",
       "      <th>26832</th>\n",
       "      <td>Dominica</td>\n",
       "      <td>1944</td>\n",
       "      <td>91100000.0</td>\n",
       "      <td>1490</td>\n",
       "      <td>40.0</td>\n",
       "      <td>americas</td>\n",
       "      <td>NaN</td>\n",
       "      <td>48800</td>\n",
       "      <td>NaN</td>\n",
       "    </tr>\n",
       "    <tr>\n",
       "      <th>26888</th>\n",
       "      <td>Marshall Islands</td>\n",
       "      <td>1944</td>\n",
       "      <td>15000000.0</td>\n",
       "      <td>1180</td>\n",
       "      <td>40.0</td>\n",
       "      <td>asia</td>\n",
       "      <td>NaN</td>\n",
       "      <td>21500</td>\n",
       "      <td>NaN</td>\n",
       "    </tr>\n",
       "    <tr>\n",
       "      <th>26973</th>\n",
       "      <td>Andorra</td>\n",
       "      <td>1945</td>\n",
       "      <td>76400000.0</td>\n",
       "      <td>6410</td>\n",
       "      <td>40.0</td>\n",
       "      <td>europe</td>\n",
       "      <td>NaN</td>\n",
       "      <td>5810</td>\n",
       "      <td>NaN</td>\n",
       "    </tr>\n",
       "    <tr>\n",
       "      <th>27018</th>\n",
       "      <td>Dominica</td>\n",
       "      <td>1945</td>\n",
       "      <td>93500000.0</td>\n",
       "      <td>1490</td>\n",
       "      <td>40.0</td>\n",
       "      <td>americas</td>\n",
       "      <td>NaN</td>\n",
       "      <td>49100</td>\n",
       "      <td>NaN</td>\n",
       "    </tr>\n",
       "    <tr>\n",
       "      <th>27074</th>\n",
       "      <td>Marshall Islands</td>\n",
       "      <td>1945</td>\n",
       "      <td>15400000.0</td>\n",
       "      <td>1210</td>\n",
       "      <td>40.0</td>\n",
       "      <td>asia</td>\n",
       "      <td>NaN</td>\n",
       "      <td>19500</td>\n",
       "      <td>NaN</td>\n",
       "    </tr>\n",
       "    <tr>\n",
       "      <th>27159</th>\n",
       "      <td>Andorra</td>\n",
       "      <td>1946</td>\n",
       "      <td>79800000.0</td>\n",
       "      <td>6520</td>\n",
       "      <td>40.0</td>\n",
       "      <td>europe</td>\n",
       "      <td>NaN</td>\n",
       "      <td>5870</td>\n",
       "      <td>NaN</td>\n",
       "    </tr>\n",
       "    <tr>\n",
       "      <th>27204</th>\n",
       "      <td>Dominica</td>\n",
       "      <td>1946</td>\n",
       "      <td>95900000.0</td>\n",
       "      <td>1490</td>\n",
       "      <td>40.0</td>\n",
       "      <td>americas</td>\n",
       "      <td>NaN</td>\n",
       "      <td>49400</td>\n",
       "      <td>NaN</td>\n",
       "    </tr>\n",
       "    <tr>\n",
       "      <th>27260</th>\n",
       "      <td>Marshall Islands</td>\n",
       "      <td>1946</td>\n",
       "      <td>15900000.0</td>\n",
       "      <td>1230</td>\n",
       "      <td>40.0</td>\n",
       "      <td>asia</td>\n",
       "      <td>NaN</td>\n",
       "      <td>17700</td>\n",
       "      <td>NaN</td>\n",
       "    </tr>\n",
       "    <tr>\n",
       "      <th>27345</th>\n",
       "      <td>Andorra</td>\n",
       "      <td>1947</td>\n",
       "      <td>83400000.0</td>\n",
       "      <td>6640</td>\n",
       "      <td>40.0</td>\n",
       "      <td>europe</td>\n",
       "      <td>NaN</td>\n",
       "      <td>5930</td>\n",
       "      <td>NaN</td>\n",
       "    </tr>\n",
       "    <tr>\n",
       "      <th>27390</th>\n",
       "      <td>Dominica</td>\n",
       "      <td>1947</td>\n",
       "      <td>98800000.0</td>\n",
       "      <td>1500</td>\n",
       "      <td>40.0</td>\n",
       "      <td>americas</td>\n",
       "      <td>NaN</td>\n",
       "      <td>49800</td>\n",
       "      <td>NaN</td>\n",
       "    </tr>\n",
       "    <tr>\n",
       "      <th>27446</th>\n",
       "      <td>Marshall Islands</td>\n",
       "      <td>1947</td>\n",
       "      <td>16400000.0</td>\n",
       "      <td>1260</td>\n",
       "      <td>40.0</td>\n",
       "      <td>asia</td>\n",
       "      <td>NaN</td>\n",
       "      <td>16100</td>\n",
       "      <td>NaN</td>\n",
       "    </tr>\n",
       "    <tr>\n",
       "      <th>27531</th>\n",
       "      <td>Andorra</td>\n",
       "      <td>1948</td>\n",
       "      <td>87100000.0</td>\n",
       "      <td>6750</td>\n",
       "      <td>40.0</td>\n",
       "      <td>europe</td>\n",
       "      <td>NaN</td>\n",
       "      <td>5990</td>\n",
       "      <td>NaN</td>\n",
       "    </tr>\n",
       "    <tr>\n",
       "      <th>27576</th>\n",
       "      <td>Dominica</td>\n",
       "      <td>1948</td>\n",
       "      <td>102000000.0</td>\n",
       "      <td>1500</td>\n",
       "      <td>40.0</td>\n",
       "      <td>americas</td>\n",
       "      <td>NaN</td>\n",
       "      <td>50100</td>\n",
       "      <td>NaN</td>\n",
       "    </tr>\n",
       "    <tr>\n",
       "      <th>27632</th>\n",
       "      <td>Marshall Islands</td>\n",
       "      <td>1948</td>\n",
       "      <td>16800000.0</td>\n",
       "      <td>1290</td>\n",
       "      <td>40.0</td>\n",
       "      <td>asia</td>\n",
       "      <td>NaN</td>\n",
       "      <td>14700</td>\n",
       "      <td>NaN</td>\n",
       "    </tr>\n",
       "    <tr>\n",
       "      <th>27717</th>\n",
       "      <td>Andorra</td>\n",
       "      <td>1949</td>\n",
       "      <td>91000000.0</td>\n",
       "      <td>6870</td>\n",
       "      <td>40.0</td>\n",
       "      <td>europe</td>\n",
       "      <td>NaN</td>\n",
       "      <td>6080</td>\n",
       "      <td>NaN</td>\n",
       "    </tr>\n",
       "    <tr>\n",
       "      <th>27762</th>\n",
       "      <td>Dominica</td>\n",
       "      <td>1949</td>\n",
       "      <td>105000000.0</td>\n",
       "      <td>1500</td>\n",
       "      <td>40.0</td>\n",
       "      <td>americas</td>\n",
       "      <td>NaN</td>\n",
       "      <td>50600</td>\n",
       "      <td>NaN</td>\n",
       "    </tr>\n",
       "    <tr>\n",
       "      <th>27818</th>\n",
       "      <td>Marshall Islands</td>\n",
       "      <td>1949</td>\n",
       "      <td>17300000.0</td>\n",
       "      <td>1320</td>\n",
       "      <td>40.0</td>\n",
       "      <td>asia</td>\n",
       "      <td>NaN</td>\n",
       "      <td>13600</td>\n",
       "      <td>NaN</td>\n",
       "    </tr>\n",
       "  </tbody>\n",
       "</table>\n",
       "<p>450 rows × 9 columns</p>\n",
       "</div>"
      ],
      "text/plain": [
       "                country  year          gdp  income_per_person  gini    region  \\\n",
       "3               Andorra  1800    3340000.0               1200  40.0    europe   \n",
       "48             Dominica  1800   13300000.0                663  40.0  americas   \n",
       "104    Marshall Islands  1800    3260000.0                539  40.0      asia   \n",
       "189             Andorra  1801    3350000.0               1200  40.0    europe   \n",
       "234            Dominica  1801   13300000.0                663  40.0  americas   \n",
       "290    Marshall Islands  1801    3270000.0                539  40.0      asia   \n",
       "375             Andorra  1802    3360000.0               1200  40.0    europe   \n",
       "420            Dominica  1802   13300000.0                663  40.0  americas   \n",
       "476    Marshall Islands  1802    3270000.0                540  40.0      asia   \n",
       "561             Andorra  1803    3360000.0               1200  40.0    europe   \n",
       "606            Dominica  1803   13300000.0                663  40.0  americas   \n",
       "662    Marshall Islands  1803    3270000.0                540  40.0      asia   \n",
       "747             Andorra  1804    3370000.0               1210  40.0    europe   \n",
       "792            Dominica  1804   13300000.0                663  40.0  americas   \n",
       "848    Marshall Islands  1804    3270000.0                540  40.0      asia   \n",
       "933             Andorra  1805    3370000.0               1210  40.0    europe   \n",
       "978            Dominica  1805   13300000.0                664  40.0  americas   \n",
       "1034   Marshall Islands  1805    3270000.0                541  40.0      asia   \n",
       "1119            Andorra  1806    3380000.0               1210  40.0    europe   \n",
       "1164           Dominica  1806   13300000.0                664  40.0  americas   \n",
       "1220   Marshall Islands  1806    3270000.0                541  40.0      asia   \n",
       "1305            Andorra  1807    3380000.0               1210  40.0    europe   \n",
       "1350           Dominica  1807   13300000.0                664  40.0  americas   \n",
       "1406   Marshall Islands  1807    3270000.0                541  40.0      asia   \n",
       "1491            Andorra  1808    3390000.0               1220  40.0    europe   \n",
       "1536           Dominica  1808   13300000.0                664  40.0  americas   \n",
       "1592   Marshall Islands  1808    3280000.0                542  40.0      asia   \n",
       "1677            Andorra  1809    3400000.0               1220  40.0    europe   \n",
       "1722           Dominica  1809   13300000.0                664  40.0  americas   \n",
       "1778   Marshall Islands  1809    3280000.0                542  40.0      asia   \n",
       "...                 ...   ...          ...                ...   ...       ...   \n",
       "26043           Andorra  1940   61400000.0               5890  40.0    europe   \n",
       "26088          Dominica  1940   82400000.0               1480  40.0  americas   \n",
       "26144  Marshall Islands  1940   13400000.0               1080  40.0      asia   \n",
       "26229           Andorra  1941   64100000.0               5990  40.0    europe   \n",
       "26274          Dominica  1941   84500000.0               1490  40.0  americas   \n",
       "26330  Marshall Islands  1941   13700000.0               1100  40.0      asia   \n",
       "26415           Andorra  1942   67000000.0               6100  40.0    europe   \n",
       "26460          Dominica  1942   86700000.0               1490  40.0  americas   \n",
       "26516  Marshall Islands  1942   14200000.0               1130  40.0      asia   \n",
       "26601           Andorra  1943   70000000.0               6200  40.0    europe   \n",
       "26646          Dominica  1943   88900000.0               1490  40.0  americas   \n",
       "26702  Marshall Islands  1943   14600000.0               1150  40.0      asia   \n",
       "26787           Andorra  1944   73100000.0               6310  40.0    europe   \n",
       "26832          Dominica  1944   91100000.0               1490  40.0  americas   \n",
       "26888  Marshall Islands  1944   15000000.0               1180  40.0      asia   \n",
       "26973           Andorra  1945   76400000.0               6410  40.0    europe   \n",
       "27018          Dominica  1945   93500000.0               1490  40.0  americas   \n",
       "27074  Marshall Islands  1945   15400000.0               1210  40.0      asia   \n",
       "27159           Andorra  1946   79800000.0               6520  40.0    europe   \n",
       "27204          Dominica  1946   95900000.0               1490  40.0  americas   \n",
       "27260  Marshall Islands  1946   15900000.0               1230  40.0      asia   \n",
       "27345           Andorra  1947   83400000.0               6640  40.0    europe   \n",
       "27390          Dominica  1947   98800000.0               1500  40.0  americas   \n",
       "27446  Marshall Islands  1947   16400000.0               1260  40.0      asia   \n",
       "27531           Andorra  1948   87100000.0               6750  40.0    europe   \n",
       "27576          Dominica  1948  102000000.0               1500  40.0  americas   \n",
       "27632  Marshall Islands  1948   16800000.0               1290  40.0      asia   \n",
       "27717           Andorra  1949   91000000.0               6870  40.0    europe   \n",
       "27762          Dominica  1949  105000000.0               1500  40.0  americas   \n",
       "27818  Marshall Islands  1949   17300000.0               1320  40.0      asia   \n",
       "\n",
       "       child_mortality  population  life_expectancy  \n",
       "3                  NaN        2650              NaN  \n",
       "48                 NaN       20000              NaN  \n",
       "104                NaN        5830              NaN  \n",
       "189                NaN        2650              NaN  \n",
       "234                NaN       20000              NaN  \n",
       "290                NaN        5830              NaN  \n",
       "375                NaN        2650              NaN  \n",
       "420                NaN       20000              NaN  \n",
       "476                NaN        5830              NaN  \n",
       "561                NaN        2650              NaN  \n",
       "606                NaN       20000              NaN  \n",
       "662                NaN        5830              NaN  \n",
       "747                NaN        2650              NaN  \n",
       "792                NaN       20000              NaN  \n",
       "848                NaN        5830              NaN  \n",
       "933                NaN        2650              NaN  \n",
       "978                NaN       20000              NaN  \n",
       "1034               NaN        5830              NaN  \n",
       "1119               NaN        2650              NaN  \n",
       "1164               NaN       20000              NaN  \n",
       "1220               NaN        5830              NaN  \n",
       "1305               NaN        2650              NaN  \n",
       "1350               NaN       20000              NaN  \n",
       "1406               NaN        5830              NaN  \n",
       "1491               NaN        2650              NaN  \n",
       "1536               NaN       20000              NaN  \n",
       "1592               NaN        5830              NaN  \n",
       "1677               NaN        2650              NaN  \n",
       "1722               NaN       20000              NaN  \n",
       "1778               NaN        5830              NaN  \n",
       "...                ...         ...              ...  \n",
       "26043              NaN        5510              NaN  \n",
       "26088              NaN       47300              NaN  \n",
       "26144              NaN       31400              NaN  \n",
       "26229              NaN        5570              NaN  \n",
       "26274              NaN       47700              NaN  \n",
       "26330              NaN       28500              NaN  \n",
       "26415              NaN        5630              NaN  \n",
       "26460              NaN       48100              NaN  \n",
       "26516              NaN       25900              NaN  \n",
       "26601              NaN        5690              NaN  \n",
       "26646              NaN       48400              NaN  \n",
       "26702              NaN       23600              NaN  \n",
       "26787              NaN        5750              NaN  \n",
       "26832              NaN       48800              NaN  \n",
       "26888              NaN       21500              NaN  \n",
       "26973              NaN        5810              NaN  \n",
       "27018              NaN       49100              NaN  \n",
       "27074              NaN       19500              NaN  \n",
       "27159              NaN        5870              NaN  \n",
       "27204              NaN       49400              NaN  \n",
       "27260              NaN       17700              NaN  \n",
       "27345              NaN        5930              NaN  \n",
       "27390              NaN       49800              NaN  \n",
       "27446              NaN       16100              NaN  \n",
       "27531              NaN        5990              NaN  \n",
       "27576              NaN       50100              NaN  \n",
       "27632              NaN       14700              NaN  \n",
       "27717              NaN        6080              NaN  \n",
       "27762              NaN       50600              NaN  \n",
       "27818              NaN       13600              NaN  \n",
       "\n",
       "[450 rows x 9 columns]"
      ]
     },
     "execution_count": 23,
     "metadata": {},
     "output_type": "execute_result"
    }
   ],
   "source": [
    "gapminder[gapminder['child_mortality'].isnull()]"
   ]
  },
  {
   "cell_type": "code",
   "execution_count": 24,
   "metadata": {},
   "outputs": [
    {
     "data": {
      "text/html": [
       "<div>\n",
       "<style scoped>\n",
       "    .dataframe tbody tr th:only-of-type {\n",
       "        vertical-align: middle;\n",
       "    }\n",
       "\n",
       "    .dataframe tbody tr th {\n",
       "        vertical-align: top;\n",
       "    }\n",
       "\n",
       "    .dataframe thead th {\n",
       "        text-align: right;\n",
       "    }\n",
       "</style>\n",
       "<table border=\"1\" class=\"dataframe\">\n",
       "  <thead>\n",
       "    <tr style=\"text-align: right;\">\n",
       "      <th></th>\n",
       "      <th>country</th>\n",
       "      <th>year</th>\n",
       "      <th>gdp</th>\n",
       "      <th>income_per_person</th>\n",
       "      <th>gini</th>\n",
       "      <th>region</th>\n",
       "      <th>child_mortality</th>\n",
       "      <th>population</th>\n",
       "      <th>life_expectancy</th>\n",
       "    </tr>\n",
       "  </thead>\n",
       "  <tbody>\n",
       "    <tr>\n",
       "      <th>3</th>\n",
       "      <td>Andorra</td>\n",
       "      <td>1800</td>\n",
       "      <td>3340000.0</td>\n",
       "      <td>1200</td>\n",
       "      <td>40.0</td>\n",
       "      <td>europe</td>\n",
       "      <td>NaN</td>\n",
       "      <td>2650</td>\n",
       "      <td>NaN</td>\n",
       "    </tr>\n",
       "    <tr>\n",
       "      <th>48</th>\n",
       "      <td>Dominica</td>\n",
       "      <td>1800</td>\n",
       "      <td>13300000.0</td>\n",
       "      <td>663</td>\n",
       "      <td>40.0</td>\n",
       "      <td>americas</td>\n",
       "      <td>NaN</td>\n",
       "      <td>20000</td>\n",
       "      <td>NaN</td>\n",
       "    </tr>\n",
       "    <tr>\n",
       "      <th>104</th>\n",
       "      <td>Marshall Islands</td>\n",
       "      <td>1800</td>\n",
       "      <td>3260000.0</td>\n",
       "      <td>539</td>\n",
       "      <td>40.0</td>\n",
       "      <td>asia</td>\n",
       "      <td>NaN</td>\n",
       "      <td>5830</td>\n",
       "      <td>NaN</td>\n",
       "    </tr>\n",
       "    <tr>\n",
       "      <th>189</th>\n",
       "      <td>Andorra</td>\n",
       "      <td>1801</td>\n",
       "      <td>3350000.0</td>\n",
       "      <td>1200</td>\n",
       "      <td>40.0</td>\n",
       "      <td>europe</td>\n",
       "      <td>NaN</td>\n",
       "      <td>2650</td>\n",
       "      <td>NaN</td>\n",
       "    </tr>\n",
       "    <tr>\n",
       "      <th>234</th>\n",
       "      <td>Dominica</td>\n",
       "      <td>1801</td>\n",
       "      <td>13300000.0</td>\n",
       "      <td>663</td>\n",
       "      <td>40.0</td>\n",
       "      <td>americas</td>\n",
       "      <td>NaN</td>\n",
       "      <td>20000</td>\n",
       "      <td>NaN</td>\n",
       "    </tr>\n",
       "    <tr>\n",
       "      <th>290</th>\n",
       "      <td>Marshall Islands</td>\n",
       "      <td>1801</td>\n",
       "      <td>3270000.0</td>\n",
       "      <td>539</td>\n",
       "      <td>40.0</td>\n",
       "      <td>asia</td>\n",
       "      <td>NaN</td>\n",
       "      <td>5830</td>\n",
       "      <td>NaN</td>\n",
       "    </tr>\n",
       "    <tr>\n",
       "      <th>375</th>\n",
       "      <td>Andorra</td>\n",
       "      <td>1802</td>\n",
       "      <td>3360000.0</td>\n",
       "      <td>1200</td>\n",
       "      <td>40.0</td>\n",
       "      <td>europe</td>\n",
       "      <td>NaN</td>\n",
       "      <td>2650</td>\n",
       "      <td>NaN</td>\n",
       "    </tr>\n",
       "    <tr>\n",
       "      <th>420</th>\n",
       "      <td>Dominica</td>\n",
       "      <td>1802</td>\n",
       "      <td>13300000.0</td>\n",
       "      <td>663</td>\n",
       "      <td>40.0</td>\n",
       "      <td>americas</td>\n",
       "      <td>NaN</td>\n",
       "      <td>20000</td>\n",
       "      <td>NaN</td>\n",
       "    </tr>\n",
       "    <tr>\n",
       "      <th>476</th>\n",
       "      <td>Marshall Islands</td>\n",
       "      <td>1802</td>\n",
       "      <td>3270000.0</td>\n",
       "      <td>540</td>\n",
       "      <td>40.0</td>\n",
       "      <td>asia</td>\n",
       "      <td>NaN</td>\n",
       "      <td>5830</td>\n",
       "      <td>NaN</td>\n",
       "    </tr>\n",
       "    <tr>\n",
       "      <th>561</th>\n",
       "      <td>Andorra</td>\n",
       "      <td>1803</td>\n",
       "      <td>3360000.0</td>\n",
       "      <td>1200</td>\n",
       "      <td>40.0</td>\n",
       "      <td>europe</td>\n",
       "      <td>NaN</td>\n",
       "      <td>2650</td>\n",
       "      <td>NaN</td>\n",
       "    </tr>\n",
       "    <tr>\n",
       "      <th>606</th>\n",
       "      <td>Dominica</td>\n",
       "      <td>1803</td>\n",
       "      <td>13300000.0</td>\n",
       "      <td>663</td>\n",
       "      <td>40.0</td>\n",
       "      <td>americas</td>\n",
       "      <td>NaN</td>\n",
       "      <td>20000</td>\n",
       "      <td>NaN</td>\n",
       "    </tr>\n",
       "    <tr>\n",
       "      <th>662</th>\n",
       "      <td>Marshall Islands</td>\n",
       "      <td>1803</td>\n",
       "      <td>3270000.0</td>\n",
       "      <td>540</td>\n",
       "      <td>40.0</td>\n",
       "      <td>asia</td>\n",
       "      <td>NaN</td>\n",
       "      <td>5830</td>\n",
       "      <td>NaN</td>\n",
       "    </tr>\n",
       "    <tr>\n",
       "      <th>747</th>\n",
       "      <td>Andorra</td>\n",
       "      <td>1804</td>\n",
       "      <td>3370000.0</td>\n",
       "      <td>1210</td>\n",
       "      <td>40.0</td>\n",
       "      <td>europe</td>\n",
       "      <td>NaN</td>\n",
       "      <td>2650</td>\n",
       "      <td>NaN</td>\n",
       "    </tr>\n",
       "    <tr>\n",
       "      <th>792</th>\n",
       "      <td>Dominica</td>\n",
       "      <td>1804</td>\n",
       "      <td>13300000.0</td>\n",
       "      <td>663</td>\n",
       "      <td>40.0</td>\n",
       "      <td>americas</td>\n",
       "      <td>NaN</td>\n",
       "      <td>20000</td>\n",
       "      <td>NaN</td>\n",
       "    </tr>\n",
       "    <tr>\n",
       "      <th>848</th>\n",
       "      <td>Marshall Islands</td>\n",
       "      <td>1804</td>\n",
       "      <td>3270000.0</td>\n",
       "      <td>540</td>\n",
       "      <td>40.0</td>\n",
       "      <td>asia</td>\n",
       "      <td>NaN</td>\n",
       "      <td>5830</td>\n",
       "      <td>NaN</td>\n",
       "    </tr>\n",
       "    <tr>\n",
       "      <th>933</th>\n",
       "      <td>Andorra</td>\n",
       "      <td>1805</td>\n",
       "      <td>3370000.0</td>\n",
       "      <td>1210</td>\n",
       "      <td>40.0</td>\n",
       "      <td>europe</td>\n",
       "      <td>NaN</td>\n",
       "      <td>2650</td>\n",
       "      <td>NaN</td>\n",
       "    </tr>\n",
       "    <tr>\n",
       "      <th>978</th>\n",
       "      <td>Dominica</td>\n",
       "      <td>1805</td>\n",
       "      <td>13300000.0</td>\n",
       "      <td>664</td>\n",
       "      <td>40.0</td>\n",
       "      <td>americas</td>\n",
       "      <td>NaN</td>\n",
       "      <td>20000</td>\n",
       "      <td>NaN</td>\n",
       "    </tr>\n",
       "    <tr>\n",
       "      <th>1034</th>\n",
       "      <td>Marshall Islands</td>\n",
       "      <td>1805</td>\n",
       "      <td>3270000.0</td>\n",
       "      <td>541</td>\n",
       "      <td>40.0</td>\n",
       "      <td>asia</td>\n",
       "      <td>NaN</td>\n",
       "      <td>5830</td>\n",
       "      <td>NaN</td>\n",
       "    </tr>\n",
       "    <tr>\n",
       "      <th>1119</th>\n",
       "      <td>Andorra</td>\n",
       "      <td>1806</td>\n",
       "      <td>3380000.0</td>\n",
       "      <td>1210</td>\n",
       "      <td>40.0</td>\n",
       "      <td>europe</td>\n",
       "      <td>NaN</td>\n",
       "      <td>2650</td>\n",
       "      <td>NaN</td>\n",
       "    </tr>\n",
       "    <tr>\n",
       "      <th>1164</th>\n",
       "      <td>Dominica</td>\n",
       "      <td>1806</td>\n",
       "      <td>13300000.0</td>\n",
       "      <td>664</td>\n",
       "      <td>40.0</td>\n",
       "      <td>americas</td>\n",
       "      <td>NaN</td>\n",
       "      <td>20000</td>\n",
       "      <td>NaN</td>\n",
       "    </tr>\n",
       "    <tr>\n",
       "      <th>1220</th>\n",
       "      <td>Marshall Islands</td>\n",
       "      <td>1806</td>\n",
       "      <td>3270000.0</td>\n",
       "      <td>541</td>\n",
       "      <td>40.0</td>\n",
       "      <td>asia</td>\n",
       "      <td>NaN</td>\n",
       "      <td>5830</td>\n",
       "      <td>NaN</td>\n",
       "    </tr>\n",
       "    <tr>\n",
       "      <th>1305</th>\n",
       "      <td>Andorra</td>\n",
       "      <td>1807</td>\n",
       "      <td>3380000.0</td>\n",
       "      <td>1210</td>\n",
       "      <td>40.0</td>\n",
       "      <td>europe</td>\n",
       "      <td>NaN</td>\n",
       "      <td>2650</td>\n",
       "      <td>NaN</td>\n",
       "    </tr>\n",
       "    <tr>\n",
       "      <th>1350</th>\n",
       "      <td>Dominica</td>\n",
       "      <td>1807</td>\n",
       "      <td>13300000.0</td>\n",
       "      <td>664</td>\n",
       "      <td>40.0</td>\n",
       "      <td>americas</td>\n",
       "      <td>NaN</td>\n",
       "      <td>20000</td>\n",
       "      <td>NaN</td>\n",
       "    </tr>\n",
       "    <tr>\n",
       "      <th>1406</th>\n",
       "      <td>Marshall Islands</td>\n",
       "      <td>1807</td>\n",
       "      <td>3270000.0</td>\n",
       "      <td>541</td>\n",
       "      <td>40.0</td>\n",
       "      <td>asia</td>\n",
       "      <td>NaN</td>\n",
       "      <td>5830</td>\n",
       "      <td>NaN</td>\n",
       "    </tr>\n",
       "    <tr>\n",
       "      <th>1491</th>\n",
       "      <td>Andorra</td>\n",
       "      <td>1808</td>\n",
       "      <td>3390000.0</td>\n",
       "      <td>1220</td>\n",
       "      <td>40.0</td>\n",
       "      <td>europe</td>\n",
       "      <td>NaN</td>\n",
       "      <td>2650</td>\n",
       "      <td>NaN</td>\n",
       "    </tr>\n",
       "    <tr>\n",
       "      <th>1536</th>\n",
       "      <td>Dominica</td>\n",
       "      <td>1808</td>\n",
       "      <td>13300000.0</td>\n",
       "      <td>664</td>\n",
       "      <td>40.0</td>\n",
       "      <td>americas</td>\n",
       "      <td>NaN</td>\n",
       "      <td>20000</td>\n",
       "      <td>NaN</td>\n",
       "    </tr>\n",
       "    <tr>\n",
       "      <th>1592</th>\n",
       "      <td>Marshall Islands</td>\n",
       "      <td>1808</td>\n",
       "      <td>3280000.0</td>\n",
       "      <td>542</td>\n",
       "      <td>40.0</td>\n",
       "      <td>asia</td>\n",
       "      <td>NaN</td>\n",
       "      <td>5830</td>\n",
       "      <td>NaN</td>\n",
       "    </tr>\n",
       "    <tr>\n",
       "      <th>1677</th>\n",
       "      <td>Andorra</td>\n",
       "      <td>1809</td>\n",
       "      <td>3400000.0</td>\n",
       "      <td>1220</td>\n",
       "      <td>40.0</td>\n",
       "      <td>europe</td>\n",
       "      <td>NaN</td>\n",
       "      <td>2650</td>\n",
       "      <td>NaN</td>\n",
       "    </tr>\n",
       "    <tr>\n",
       "      <th>1722</th>\n",
       "      <td>Dominica</td>\n",
       "      <td>1809</td>\n",
       "      <td>13300000.0</td>\n",
       "      <td>664</td>\n",
       "      <td>40.0</td>\n",
       "      <td>americas</td>\n",
       "      <td>NaN</td>\n",
       "      <td>20000</td>\n",
       "      <td>NaN</td>\n",
       "    </tr>\n",
       "    <tr>\n",
       "      <th>1778</th>\n",
       "      <td>Marshall Islands</td>\n",
       "      <td>1809</td>\n",
       "      <td>3280000.0</td>\n",
       "      <td>542</td>\n",
       "      <td>40.0</td>\n",
       "      <td>asia</td>\n",
       "      <td>NaN</td>\n",
       "      <td>5830</td>\n",
       "      <td>NaN</td>\n",
       "    </tr>\n",
       "    <tr>\n",
       "      <th>...</th>\n",
       "      <td>...</td>\n",
       "      <td>...</td>\n",
       "      <td>...</td>\n",
       "      <td>...</td>\n",
       "      <td>...</td>\n",
       "      <td>...</td>\n",
       "      <td>...</td>\n",
       "      <td>...</td>\n",
       "      <td>...</td>\n",
       "    </tr>\n",
       "    <tr>\n",
       "      <th>29763</th>\n",
       "      <td>Andorra</td>\n",
       "      <td>1960</td>\n",
       "      <td>298000000.0</td>\n",
       "      <td>15200</td>\n",
       "      <td>40.0</td>\n",
       "      <td>europe</td>\n",
       "      <td>36.6</td>\n",
       "      <td>13400</td>\n",
       "      <td>NaN</td>\n",
       "    </tr>\n",
       "    <tr>\n",
       "      <th>29808</th>\n",
       "      <td>Dominica</td>\n",
       "      <td>1960</td>\n",
       "      <td>142000000.0</td>\n",
       "      <td>1900</td>\n",
       "      <td>40.0</td>\n",
       "      <td>americas</td>\n",
       "      <td>141.0</td>\n",
       "      <td>60000</td>\n",
       "      <td>NaN</td>\n",
       "    </tr>\n",
       "    <tr>\n",
       "      <th>29864</th>\n",
       "      <td>Marshall Islands</td>\n",
       "      <td>1960</td>\n",
       "      <td>25300000.0</td>\n",
       "      <td>1700</td>\n",
       "      <td>40.0</td>\n",
       "      <td>asia</td>\n",
       "      <td>122.0</td>\n",
       "      <td>14700</td>\n",
       "      <td>NaN</td>\n",
       "    </tr>\n",
       "    <tr>\n",
       "      <th>29949</th>\n",
       "      <td>Andorra</td>\n",
       "      <td>1961</td>\n",
       "      <td>332000000.0</td>\n",
       "      <td>16500</td>\n",
       "      <td>40.0</td>\n",
       "      <td>europe</td>\n",
       "      <td>34.5</td>\n",
       "      <td>14400</td>\n",
       "      <td>NaN</td>\n",
       "    </tr>\n",
       "    <tr>\n",
       "      <th>29994</th>\n",
       "      <td>Dominica</td>\n",
       "      <td>1961</td>\n",
       "      <td>146000000.0</td>\n",
       "      <td>1800</td>\n",
       "      <td>40.0</td>\n",
       "      <td>americas</td>\n",
       "      <td>127.0</td>\n",
       "      <td>61000</td>\n",
       "      <td>NaN</td>\n",
       "    </tr>\n",
       "    <tr>\n",
       "      <th>30050</th>\n",
       "      <td>Marshall Islands</td>\n",
       "      <td>1961</td>\n",
       "      <td>26500000.0</td>\n",
       "      <td>1740</td>\n",
       "      <td>40.0</td>\n",
       "      <td>asia</td>\n",
       "      <td>116.0</td>\n",
       "      <td>15100</td>\n",
       "      <td>NaN</td>\n",
       "    </tr>\n",
       "    <tr>\n",
       "      <th>30135</th>\n",
       "      <td>Andorra</td>\n",
       "      <td>1962</td>\n",
       "      <td>369000000.0</td>\n",
       "      <td>17800</td>\n",
       "      <td>40.0</td>\n",
       "      <td>europe</td>\n",
       "      <td>32.6</td>\n",
       "      <td>15400</td>\n",
       "      <td>NaN</td>\n",
       "    </tr>\n",
       "    <tr>\n",
       "      <th>30180</th>\n",
       "      <td>Dominica</td>\n",
       "      <td>1962</td>\n",
       "      <td>150000000.0</td>\n",
       "      <td>2050</td>\n",
       "      <td>40.0</td>\n",
       "      <td>americas</td>\n",
       "      <td>115.0</td>\n",
       "      <td>62000</td>\n",
       "      <td>NaN</td>\n",
       "    </tr>\n",
       "    <tr>\n",
       "      <th>30236</th>\n",
       "      <td>Marshall Islands</td>\n",
       "      <td>1962</td>\n",
       "      <td>28000000.0</td>\n",
       "      <td>1780</td>\n",
       "      <td>40.0</td>\n",
       "      <td>asia</td>\n",
       "      <td>111.0</td>\n",
       "      <td>15500</td>\n",
       "      <td>NaN</td>\n",
       "    </tr>\n",
       "    <tr>\n",
       "      <th>30321</th>\n",
       "      <td>Andorra</td>\n",
       "      <td>1963</td>\n",
       "      <td>408000000.0</td>\n",
       "      <td>19200</td>\n",
       "      <td>40.0</td>\n",
       "      <td>europe</td>\n",
       "      <td>31.0</td>\n",
       "      <td>16400</td>\n",
       "      <td>NaN</td>\n",
       "    </tr>\n",
       "    <tr>\n",
       "      <th>30366</th>\n",
       "      <td>Dominica</td>\n",
       "      <td>1963</td>\n",
       "      <td>154000000.0</td>\n",
       "      <td>2120</td>\n",
       "      <td>40.0</td>\n",
       "      <td>americas</td>\n",
       "      <td>105.0</td>\n",
       "      <td>62900</td>\n",
       "      <td>NaN</td>\n",
       "    </tr>\n",
       "    <tr>\n",
       "      <th>30422</th>\n",
       "      <td>Marshall Islands</td>\n",
       "      <td>1963</td>\n",
       "      <td>29700000.0</td>\n",
       "      <td>1820</td>\n",
       "      <td>40.0</td>\n",
       "      <td>asia</td>\n",
       "      <td>106.0</td>\n",
       "      <td>16100</td>\n",
       "      <td>NaN</td>\n",
       "    </tr>\n",
       "    <tr>\n",
       "      <th>30507</th>\n",
       "      <td>Andorra</td>\n",
       "      <td>1964</td>\n",
       "      <td>451000000.0</td>\n",
       "      <td>20800</td>\n",
       "      <td>40.0</td>\n",
       "      <td>europe</td>\n",
       "      <td>29.6</td>\n",
       "      <td>17500</td>\n",
       "      <td>NaN</td>\n",
       "    </tr>\n",
       "    <tr>\n",
       "      <th>30552</th>\n",
       "      <td>Dominica</td>\n",
       "      <td>1964</td>\n",
       "      <td>159000000.0</td>\n",
       "      <td>2200</td>\n",
       "      <td>40.0</td>\n",
       "      <td>americas</td>\n",
       "      <td>95.8</td>\n",
       "      <td>63900</td>\n",
       "      <td>NaN</td>\n",
       "    </tr>\n",
       "    <tr>\n",
       "      <th>30608</th>\n",
       "      <td>Marshall Islands</td>\n",
       "      <td>1964</td>\n",
       "      <td>31500000.0</td>\n",
       "      <td>1870</td>\n",
       "      <td>40.0</td>\n",
       "      <td>asia</td>\n",
       "      <td>101.0</td>\n",
       "      <td>16700</td>\n",
       "      <td>NaN</td>\n",
       "    </tr>\n",
       "    <tr>\n",
       "      <th>30693</th>\n",
       "      <td>Andorra</td>\n",
       "      <td>1965</td>\n",
       "      <td>498000000.0</td>\n",
       "      <td>22500</td>\n",
       "      <td>40.0</td>\n",
       "      <td>europe</td>\n",
       "      <td>28.5</td>\n",
       "      <td>18500</td>\n",
       "      <td>NaN</td>\n",
       "    </tr>\n",
       "    <tr>\n",
       "      <th>30738</th>\n",
       "      <td>Dominica</td>\n",
       "      <td>1965</td>\n",
       "      <td>163000000.0</td>\n",
       "      <td>1870</td>\n",
       "      <td>40.0</td>\n",
       "      <td>americas</td>\n",
       "      <td>87.9</td>\n",
       "      <td>65000</td>\n",
       "      <td>NaN</td>\n",
       "    </tr>\n",
       "    <tr>\n",
       "      <th>30794</th>\n",
       "      <td>Marshall Islands</td>\n",
       "      <td>1965</td>\n",
       "      <td>33400000.0</td>\n",
       "      <td>1910</td>\n",
       "      <td>40.0</td>\n",
       "      <td>asia</td>\n",
       "      <td>97.1</td>\n",
       "      <td>17300</td>\n",
       "      <td>NaN</td>\n",
       "    </tr>\n",
       "    <tr>\n",
       "      <th>30879</th>\n",
       "      <td>Andorra</td>\n",
       "      <td>1966</td>\n",
       "      <td>548000000.0</td>\n",
       "      <td>24300</td>\n",
       "      <td>40.0</td>\n",
       "      <td>europe</td>\n",
       "      <td>27.5</td>\n",
       "      <td>19600</td>\n",
       "      <td>NaN</td>\n",
       "    </tr>\n",
       "    <tr>\n",
       "      <th>30924</th>\n",
       "      <td>Dominica</td>\n",
       "      <td>1966</td>\n",
       "      <td>168000000.0</td>\n",
       "      <td>2060</td>\n",
       "      <td>40.0</td>\n",
       "      <td>americas</td>\n",
       "      <td>81.2</td>\n",
       "      <td>66300</td>\n",
       "      <td>NaN</td>\n",
       "    </tr>\n",
       "    <tr>\n",
       "      <th>30980</th>\n",
       "      <td>Marshall Islands</td>\n",
       "      <td>1966</td>\n",
       "      <td>35300000.0</td>\n",
       "      <td>1950</td>\n",
       "      <td>40.0</td>\n",
       "      <td>asia</td>\n",
       "      <td>93.2</td>\n",
       "      <td>17800</td>\n",
       "      <td>NaN</td>\n",
       "    </tr>\n",
       "    <tr>\n",
       "      <th>31065</th>\n",
       "      <td>Andorra</td>\n",
       "      <td>1967</td>\n",
       "      <td>602000000.0</td>\n",
       "      <td>26300</td>\n",
       "      <td>40.0</td>\n",
       "      <td>europe</td>\n",
       "      <td>26.6</td>\n",
       "      <td>20800</td>\n",
       "      <td>NaN</td>\n",
       "    </tr>\n",
       "    <tr>\n",
       "      <th>31110</th>\n",
       "      <td>Dominica</td>\n",
       "      <td>1967</td>\n",
       "      <td>174000000.0</td>\n",
       "      <td>2080</td>\n",
       "      <td>40.0</td>\n",
       "      <td>americas</td>\n",
       "      <td>75.3</td>\n",
       "      <td>67700</td>\n",
       "      <td>NaN</td>\n",
       "    </tr>\n",
       "    <tr>\n",
       "      <th>31166</th>\n",
       "      <td>Marshall Islands</td>\n",
       "      <td>1967</td>\n",
       "      <td>37200000.0</td>\n",
       "      <td>2000</td>\n",
       "      <td>40.0</td>\n",
       "      <td>asia</td>\n",
       "      <td>89.6</td>\n",
       "      <td>18400</td>\n",
       "      <td>NaN</td>\n",
       "    </tr>\n",
       "    <tr>\n",
       "      <th>31251</th>\n",
       "      <td>Andorra</td>\n",
       "      <td>1968</td>\n",
       "      <td>659000000.0</td>\n",
       "      <td>28400</td>\n",
       "      <td>40.0</td>\n",
       "      <td>europe</td>\n",
       "      <td>25.9</td>\n",
       "      <td>21900</td>\n",
       "      <td>NaN</td>\n",
       "    </tr>\n",
       "    <tr>\n",
       "      <th>31296</th>\n",
       "      <td>Dominica</td>\n",
       "      <td>1968</td>\n",
       "      <td>179000000.0</td>\n",
       "      <td>2020</td>\n",
       "      <td>40.0</td>\n",
       "      <td>americas</td>\n",
       "      <td>69.9</td>\n",
       "      <td>69000</td>\n",
       "      <td>NaN</td>\n",
       "    </tr>\n",
       "    <tr>\n",
       "      <th>31352</th>\n",
       "      <td>Marshall Islands</td>\n",
       "      <td>1968</td>\n",
       "      <td>39200000.0</td>\n",
       "      <td>2050</td>\n",
       "      <td>40.0</td>\n",
       "      <td>asia</td>\n",
       "      <td>86.1</td>\n",
       "      <td>19000</td>\n",
       "      <td>NaN</td>\n",
       "    </tr>\n",
       "    <tr>\n",
       "      <th>31437</th>\n",
       "      <td>Andorra</td>\n",
       "      <td>1969</td>\n",
       "      <td>722000000.0</td>\n",
       "      <td>30700</td>\n",
       "      <td>40.0</td>\n",
       "      <td>europe</td>\n",
       "      <td>25.1</td>\n",
       "      <td>23100</td>\n",
       "      <td>NaN</td>\n",
       "    </tr>\n",
       "    <tr>\n",
       "      <th>31482</th>\n",
       "      <td>Dominica</td>\n",
       "      <td>1969</td>\n",
       "      <td>184000000.0</td>\n",
       "      <td>2190</td>\n",
       "      <td>40.0</td>\n",
       "      <td>americas</td>\n",
       "      <td>64.8</td>\n",
       "      <td>70200</td>\n",
       "      <td>NaN</td>\n",
       "    </tr>\n",
       "    <tr>\n",
       "      <th>31538</th>\n",
       "      <td>Marshall Islands</td>\n",
       "      <td>1969</td>\n",
       "      <td>41500000.0</td>\n",
       "      <td>2100</td>\n",
       "      <td>40.0</td>\n",
       "      <td>asia</td>\n",
       "      <td>82.8</td>\n",
       "      <td>19600</td>\n",
       "      <td>NaN</td>\n",
       "    </tr>\n",
       "  </tbody>\n",
       "</table>\n",
       "<p>510 rows × 9 columns</p>\n",
       "</div>"
      ],
      "text/plain": [
       "                country  year          gdp  income_per_person  gini    region  \\\n",
       "3               Andorra  1800    3340000.0               1200  40.0    europe   \n",
       "48             Dominica  1800   13300000.0                663  40.0  americas   \n",
       "104    Marshall Islands  1800    3260000.0                539  40.0      asia   \n",
       "189             Andorra  1801    3350000.0               1200  40.0    europe   \n",
       "234            Dominica  1801   13300000.0                663  40.0  americas   \n",
       "290    Marshall Islands  1801    3270000.0                539  40.0      asia   \n",
       "375             Andorra  1802    3360000.0               1200  40.0    europe   \n",
       "420            Dominica  1802   13300000.0                663  40.0  americas   \n",
       "476    Marshall Islands  1802    3270000.0                540  40.0      asia   \n",
       "561             Andorra  1803    3360000.0               1200  40.0    europe   \n",
       "606            Dominica  1803   13300000.0                663  40.0  americas   \n",
       "662    Marshall Islands  1803    3270000.0                540  40.0      asia   \n",
       "747             Andorra  1804    3370000.0               1210  40.0    europe   \n",
       "792            Dominica  1804   13300000.0                663  40.0  americas   \n",
       "848    Marshall Islands  1804    3270000.0                540  40.0      asia   \n",
       "933             Andorra  1805    3370000.0               1210  40.0    europe   \n",
       "978            Dominica  1805   13300000.0                664  40.0  americas   \n",
       "1034   Marshall Islands  1805    3270000.0                541  40.0      asia   \n",
       "1119            Andorra  1806    3380000.0               1210  40.0    europe   \n",
       "1164           Dominica  1806   13300000.0                664  40.0  americas   \n",
       "1220   Marshall Islands  1806    3270000.0                541  40.0      asia   \n",
       "1305            Andorra  1807    3380000.0               1210  40.0    europe   \n",
       "1350           Dominica  1807   13300000.0                664  40.0  americas   \n",
       "1406   Marshall Islands  1807    3270000.0                541  40.0      asia   \n",
       "1491            Andorra  1808    3390000.0               1220  40.0    europe   \n",
       "1536           Dominica  1808   13300000.0                664  40.0  americas   \n",
       "1592   Marshall Islands  1808    3280000.0                542  40.0      asia   \n",
       "1677            Andorra  1809    3400000.0               1220  40.0    europe   \n",
       "1722           Dominica  1809   13300000.0                664  40.0  americas   \n",
       "1778   Marshall Islands  1809    3280000.0                542  40.0      asia   \n",
       "...                 ...   ...          ...                ...   ...       ...   \n",
       "29763           Andorra  1960  298000000.0              15200  40.0    europe   \n",
       "29808          Dominica  1960  142000000.0               1900  40.0  americas   \n",
       "29864  Marshall Islands  1960   25300000.0               1700  40.0      asia   \n",
       "29949           Andorra  1961  332000000.0              16500  40.0    europe   \n",
       "29994          Dominica  1961  146000000.0               1800  40.0  americas   \n",
       "30050  Marshall Islands  1961   26500000.0               1740  40.0      asia   \n",
       "30135           Andorra  1962  369000000.0              17800  40.0    europe   \n",
       "30180          Dominica  1962  150000000.0               2050  40.0  americas   \n",
       "30236  Marshall Islands  1962   28000000.0               1780  40.0      asia   \n",
       "30321           Andorra  1963  408000000.0              19200  40.0    europe   \n",
       "30366          Dominica  1963  154000000.0               2120  40.0  americas   \n",
       "30422  Marshall Islands  1963   29700000.0               1820  40.0      asia   \n",
       "30507           Andorra  1964  451000000.0              20800  40.0    europe   \n",
       "30552          Dominica  1964  159000000.0               2200  40.0  americas   \n",
       "30608  Marshall Islands  1964   31500000.0               1870  40.0      asia   \n",
       "30693           Andorra  1965  498000000.0              22500  40.0    europe   \n",
       "30738          Dominica  1965  163000000.0               1870  40.0  americas   \n",
       "30794  Marshall Islands  1965   33400000.0               1910  40.0      asia   \n",
       "30879           Andorra  1966  548000000.0              24300  40.0    europe   \n",
       "30924          Dominica  1966  168000000.0               2060  40.0  americas   \n",
       "30980  Marshall Islands  1966   35300000.0               1950  40.0      asia   \n",
       "31065           Andorra  1967  602000000.0              26300  40.0    europe   \n",
       "31110          Dominica  1967  174000000.0               2080  40.0  americas   \n",
       "31166  Marshall Islands  1967   37200000.0               2000  40.0      asia   \n",
       "31251           Andorra  1968  659000000.0              28400  40.0    europe   \n",
       "31296          Dominica  1968  179000000.0               2020  40.0  americas   \n",
       "31352  Marshall Islands  1968   39200000.0               2050  40.0      asia   \n",
       "31437           Andorra  1969  722000000.0              30700  40.0    europe   \n",
       "31482          Dominica  1969  184000000.0               2190  40.0  americas   \n",
       "31538  Marshall Islands  1969   41500000.0               2100  40.0      asia   \n",
       "\n",
       "       child_mortality  population  life_expectancy  \n",
       "3                  NaN        2650              NaN  \n",
       "48                 NaN       20000              NaN  \n",
       "104                NaN        5830              NaN  \n",
       "189                NaN        2650              NaN  \n",
       "234                NaN       20000              NaN  \n",
       "290                NaN        5830              NaN  \n",
       "375                NaN        2650              NaN  \n",
       "420                NaN       20000              NaN  \n",
       "476                NaN        5830              NaN  \n",
       "561                NaN        2650              NaN  \n",
       "606                NaN       20000              NaN  \n",
       "662                NaN        5830              NaN  \n",
       "747                NaN        2650              NaN  \n",
       "792                NaN       20000              NaN  \n",
       "848                NaN        5830              NaN  \n",
       "933                NaN        2650              NaN  \n",
       "978                NaN       20000              NaN  \n",
       "1034               NaN        5830              NaN  \n",
       "1119               NaN        2650              NaN  \n",
       "1164               NaN       20000              NaN  \n",
       "1220               NaN        5830              NaN  \n",
       "1305               NaN        2650              NaN  \n",
       "1350               NaN       20000              NaN  \n",
       "1406               NaN        5830              NaN  \n",
       "1491               NaN        2650              NaN  \n",
       "1536               NaN       20000              NaN  \n",
       "1592               NaN        5830              NaN  \n",
       "1677               NaN        2650              NaN  \n",
       "1722               NaN       20000              NaN  \n",
       "1778               NaN        5830              NaN  \n",
       "...                ...         ...              ...  \n",
       "29763             36.6       13400              NaN  \n",
       "29808            141.0       60000              NaN  \n",
       "29864            122.0       14700              NaN  \n",
       "29949             34.5       14400              NaN  \n",
       "29994            127.0       61000              NaN  \n",
       "30050            116.0       15100              NaN  \n",
       "30135             32.6       15400              NaN  \n",
       "30180            115.0       62000              NaN  \n",
       "30236            111.0       15500              NaN  \n",
       "30321             31.0       16400              NaN  \n",
       "30366            105.0       62900              NaN  \n",
       "30422            106.0       16100              NaN  \n",
       "30507             29.6       17500              NaN  \n",
       "30552             95.8       63900              NaN  \n",
       "30608            101.0       16700              NaN  \n",
       "30693             28.5       18500              NaN  \n",
       "30738             87.9       65000              NaN  \n",
       "30794             97.1       17300              NaN  \n",
       "30879             27.5       19600              NaN  \n",
       "30924             81.2       66300              NaN  \n",
       "30980             93.2       17800              NaN  \n",
       "31065             26.6       20800              NaN  \n",
       "31110             75.3       67700              NaN  \n",
       "31166             89.6       18400              NaN  \n",
       "31251             25.9       21900              NaN  \n",
       "31296             69.9       69000              NaN  \n",
       "31352             86.1       19000              NaN  \n",
       "31437             25.1       23100              NaN  \n",
       "31482             64.8       70200              NaN  \n",
       "31538             82.8       19600              NaN  \n",
       "\n",
       "[510 rows x 9 columns]"
      ]
     },
     "execution_count": 24,
     "metadata": {},
     "output_type": "execute_result"
    }
   ],
   "source": [
    "gapminder[gapminder['life_expectancy'].isnull()]"
   ]
  },
  {
   "cell_type": "markdown",
   "metadata": {},
   "source": [
    "For the two other variables (`child_mortality` and `life_expectancy`), the missing values regards only three countries: Andorra, Dominica and Marshall Island. "
   ]
  },
  {
   "cell_type": "markdown",
   "metadata": {},
   "source": [
    "Since these null values are not not particularly relevant for our research, we will drop the rows containing them using the `drop.na()` method."
   ]
  },
  {
   "cell_type": "code",
   "execution_count": 25,
   "metadata": {},
   "outputs": [],
   "source": [
    "gapminder = gapminder.dropna()"
   ]
  },
  {
   "cell_type": "code",
   "execution_count": 26,
   "metadata": {},
   "outputs": [
    {
     "name": "stdout",
     "output_type": "stream",
     "text": [
      "<class 'pandas.core.frame.DataFrame'>\n",
      "Int64Index: 39268 entries, 0 to 39803\n",
      "Data columns (total 9 columns):\n",
      "country              39268 non-null object\n",
      "year                 39268 non-null object\n",
      "gdp                  39268 non-null float64\n",
      "income_per_person    39268 non-null int64\n",
      "gini                 39268 non-null float64\n",
      "region               39268 non-null object\n",
      "child_mortality      39268 non-null float64\n",
      "population           39268 non-null int64\n",
      "life_expectancy      39268 non-null float64\n",
      "dtypes: float64(4), int64(2), object(3)\n",
      "memory usage: 3.0+ MB\n"
     ]
    }
   ],
   "source": [
    "gapminder.info()"
   ]
  },
  {
   "cell_type": "markdown",
   "metadata": {},
   "source": [
    "Before moving on to the visualization of the Data, I set two indexes on the DataFrame: `region` and `country`. This makes it easier to subset the Dataframe later."
   ]
  },
  {
   "cell_type": "code",
   "execution_count": 27,
   "metadata": {},
   "outputs": [],
   "source": [
    "gapminder = gapminder.set_index(['region','country'])"
   ]
  },
  {
   "cell_type": "markdown",
   "metadata": {},
   "source": [
    "Let's see how the DataFrame looks like with the new indexes."
   ]
  },
  {
   "cell_type": "code",
   "execution_count": 28,
   "metadata": {},
   "outputs": [
    {
     "data": {
      "text/html": [
       "<div>\n",
       "<style scoped>\n",
       "    .dataframe tbody tr th:only-of-type {\n",
       "        vertical-align: middle;\n",
       "    }\n",
       "\n",
       "    .dataframe tbody tr th {\n",
       "        vertical-align: top;\n",
       "    }\n",
       "\n",
       "    .dataframe thead th {\n",
       "        text-align: right;\n",
       "    }\n",
       "</style>\n",
       "<table border=\"1\" class=\"dataframe\">\n",
       "  <thead>\n",
       "    <tr style=\"text-align: right;\">\n",
       "      <th></th>\n",
       "      <th></th>\n",
       "      <th>year</th>\n",
       "      <th>gdp</th>\n",
       "      <th>income_per_person</th>\n",
       "      <th>gini</th>\n",
       "      <th>child_mortality</th>\n",
       "      <th>population</th>\n",
       "      <th>life_expectancy</th>\n",
       "    </tr>\n",
       "    <tr>\n",
       "      <th>region</th>\n",
       "      <th>country</th>\n",
       "      <th></th>\n",
       "      <th></th>\n",
       "      <th></th>\n",
       "      <th></th>\n",
       "      <th></th>\n",
       "      <th></th>\n",
       "      <th></th>\n",
       "    </tr>\n",
       "  </thead>\n",
       "  <tbody>\n",
       "    <tr>\n",
       "      <th rowspan=\"5\" valign=\"top\">africa</th>\n",
       "      <th>Algeria</th>\n",
       "      <td>2000</td>\n",
       "      <td>3.090000e+11</td>\n",
       "      <td>10300</td>\n",
       "      <td>33.1</td>\n",
       "      <td>39.7</td>\n",
       "      <td>31000000</td>\n",
       "      <td>74.0</td>\n",
       "    </tr>\n",
       "    <tr>\n",
       "      <th>Angola</th>\n",
       "      <td>2000</td>\n",
       "      <td>4.650000e+10</td>\n",
       "      <td>3890</td>\n",
       "      <td>51.8</td>\n",
       "      <td>206.0</td>\n",
       "      <td>16400000</td>\n",
       "      <td>51.7</td>\n",
       "    </tr>\n",
       "    <tr>\n",
       "      <th>Benin</th>\n",
       "      <td>2000</td>\n",
       "      <td>9.670000e+09</td>\n",
       "      <td>1670</td>\n",
       "      <td>39.1</td>\n",
       "      <td>139.0</td>\n",
       "      <td>6870000</td>\n",
       "      <td>57.5</td>\n",
       "    </tr>\n",
       "    <tr>\n",
       "      <th>Botswana</th>\n",
       "      <td>2000</td>\n",
       "      <td>1.820000e+10</td>\n",
       "      <td>10700</td>\n",
       "      <td>63.4</td>\n",
       "      <td>86.9</td>\n",
       "      <td>1640000</td>\n",
       "      <td>54.0</td>\n",
       "    </tr>\n",
       "    <tr>\n",
       "      <th>Burkina Faso</th>\n",
       "      <td>2000</td>\n",
       "      <td>1.370000e+10</td>\n",
       "      <td>1080</td>\n",
       "      <td>47.3</td>\n",
       "      <td>179.0</td>\n",
       "      <td>11600000</td>\n",
       "      <td>52.4</td>\n",
       "    </tr>\n",
       "  </tbody>\n",
       "</table>\n",
       "</div>"
      ],
      "text/plain": [
       "                     year           gdp  income_per_person  gini  \\\n",
       "region country                                                     \n",
       "africa Algeria       2000  3.090000e+11              10300  33.1   \n",
       "       Angola        2000  4.650000e+10               3890  51.8   \n",
       "       Benin         2000  9.670000e+09               1670  39.1   \n",
       "       Botswana      2000  1.820000e+10              10700  63.4   \n",
       "       Burkina Faso  2000  1.370000e+10               1080  47.3   \n",
       "\n",
       "                     child_mortality  population  life_expectancy  \n",
       "region country                                                     \n",
       "africa Algeria                  39.7    31000000             74.0  \n",
       "       Angola                  206.0    16400000             51.7  \n",
       "       Benin                   139.0     6870000             57.5  \n",
       "       Botswana                 86.9     1640000             54.0  \n",
       "       Burkina Faso            179.0    11600000             52.4  "
      ]
     },
     "execution_count": 28,
     "metadata": {},
     "output_type": "execute_result"
    }
   ],
   "source": [
    "gapminder.sort_index(level=[\"region\",\"country\"]).query('year == \"2000\"').head()"
   ]
  },
  {
   "cell_type": "markdown",
   "metadata": {},
   "source": [
    "<a id='eda'></a>\n",
    "## Exploratory Data Analysis\n",
    "\n",
    "After cleaning the data, we can finally start doing some data analysis exploration. As stated in the introduction, in my research project I used as reference the years `1800` and `2000`. As independent variable, I used while`income_per_person`, while `gdp`,`gini`,`life_expectancy` and `child_mortality` as dependent variables. \n",
    "\n",
    "First, let's compute some statistics and create visualizations on the single variables. \n",
    "\n",
    "### Research Question 1 (Evolution  of the single indicators over time)"
   ]
  },
  {
   "cell_type": "markdown",
   "metadata": {},
   "source": [
    "First I created a mask with a subset of the gapminder Dataframe for the year 1800 and 2000."
   ]
  },
  {
   "cell_type": "code",
   "execution_count": 29,
   "metadata": {},
   "outputs": [],
   "source": [
    "\n",
    "gapminder_1800 = gapminder[gapminder['year'] == \"1800\"]\n",
    "\n",
    "gapminder_2000 = gapminder[gapminder['year'] == \"2000\"]\n"
   ]
  },
  {
   "cell_type": "markdown",
   "metadata": {},
   "source": [
    "Now, let's start by displaying a histogram of the income per person indicator."
   ]
  },
  {
   "cell_type": "code",
   "execution_count": 30,
   "metadata": {},
   "outputs": [
    {
     "data": {
      "text/plain": [
       "<matplotlib.legend.Legend at 0x7f2087c3bc50>"
      ]
     },
     "execution_count": 30,
     "metadata": {},
     "output_type": "execute_result"
    },
    {
     "data": {
      "image/png": "[encoded data removed]",
      "text/plain": [
       "<matplotlib.figure.Figure at 0x7f208a2aa6d8>"
      ]
     },
     "metadata": {
      "needs_background": "light"
     },
     "output_type": "display_data"
    }
   ],
   "source": [
    "gapminder_1800['income_per_person'].hist(bins=20,alpha=0.7,label = '1800')\n",
    "gapminder_2000['income_per_person'].hist(bins=20,alpha=0.7,label = '2000')\n",
    "plt.legend()"
   ]
  },
  {
   "cell_type": "markdown",
   "metadata": {},
   "source": [
    "As expected, we can notice that income per person has growth dramatically over 200 years. However, the majority of country stills have an income per person lower than 20,000 dollars. Only few countries have an income higher than 40,000 dollars.\n",
    "\n",
    "Let's now us a plot bar to evaluate how income per person is distributed among different regions, and if the distribution changed over 200 years."
   ]
  },
  {
   "cell_type": "code",
   "execution_count": 31,
   "metadata": {},
   "outputs": [
    {
     "name": "stdout",
     "output_type": "stream",
     "text": [
      "AxesSubplot(0.125,0.125;0.775x0.755)\n",
      "\n",
      "\n",
      "The world mean income per person in 1800 was 978.741758242 dollars.\n"
     ]
    },
    {
     "data": {
      "image/png": "[encoded data removed]",
      "text/plain": [
       "<matplotlib.figure.Figure at 0x7f20ba1cdac8>"
      ]
     },
     "metadata": {
      "needs_background": "light"
     },
     "output_type": "display_data"
    }
   ],
   "source": [
    "income_per_region_1800 = gapminder_1800.pivot_table( \"income_per_person\", index=\"region\").plot(kind='bar')\n",
    "print(income_per_region_1800)\n",
    "print('\\n')\n",
    "print(\"The world mean income per person in 1800 was \" + str(gapminder_1800['income_per_person'].mean())+\" dollars.\")"
   ]
  },
  {
   "cell_type": "code",
   "execution_count": 32,
   "metadata": {},
   "outputs": [
    {
     "name": "stdout",
     "output_type": "stream",
     "text": [
      "AxesSubplot(0.125,0.125;0.775x0.755)\n",
      "\n",
      "\n",
      "The world mean income per person in 2000 was 13809.672043 dollars.\n"
     ]
    },
    {
     "data": {
      "image/png": "[encoded data removed]",
      "text/plain": [
       "<matplotlib.figure.Figure at 0x7f208a31efd0>"
      ]
     },
     "metadata": {
      "needs_background": "light"
     },
     "output_type": "display_data"
    }
   ],
   "source": [
    "income_per_region_2000 = gapminder_2000.pivot_table( \"income_per_person\", index=\"region\").plot(kind='bar')\n",
    "print(income_per_region_2000)\n",
    "print('\\n')\n",
    "print(\"The world mean income per person in 2000 was \" + str(gapminder_2000['income_per_person'].mean())+\" dollars.\")"
   ]
  },
  {
   "cell_type": "markdown",
   "metadata": {},
   "source": [
    "We can notice that income per person has grown dramatically between 1800 and 2000. Globally it increased more than 10x, and regionally even 18x or 20x such as in Asia and Europe.  Europe on average had the highest income per person in 1800 and still maintains this position in 2000. Americas and Asia were respectively second and third in 1800, and third and second in 2000. Africa was the region with the lowest income per person in 1800 and it was still the lowest in 2000.\n",
    "\n",
    "\n",
    "Let's now move to see how GDP has changed over 200 years."
   ]
  },
  {
   "cell_type": "markdown",
   "metadata": {},
   "source": [
    "__Total GDP__"
   ]
  },
  {
   "cell_type": "code",
   "execution_count": 33,
   "metadata": {},
   "outputs": [
    {
     "data": {
      "text/plain": [
       "<matplotlib.legend.Legend at 0x7f2087a33390>"
      ]
     },
     "execution_count": 33,
     "metadata": {},
     "output_type": "execute_result"
    },
    {
     "data": {
      "image/png": "[encoded data removed]",
      "text/plain": [
       "<matplotlib.figure.Figure at 0x7f2087b252e8>"
      ]
     },
     "metadata": {
      "needs_background": "light"
     },
     "output_type": "display_data"
    }
   ],
   "source": [
    "gapminder_1800['gdp'].hist(alpha=0.7,label = '1800')\n",
    "gapminder_2000['gdp'].hist(alpha=0.7,label = '2000')\n",
    "plt.legend()"
   ]
  },
  {
   "cell_type": "code",
   "execution_count": 34,
   "metadata": {},
   "outputs": [
    {
     "name": "stdout",
     "output_type": "stream",
     "text": [
      "AxesSubplot(0.125,0.125;0.775x0.755)\n",
      "\n",
      "\n",
      "The global average gdp in 1800 was 5270646538.46 dollars.\n"
     ]
    },
    {
     "data": {
      "image/png": "[encoded data removed]",
      "text/plain": [
       "<matplotlib.figure.Figure at 0x7f2087aa4978>"
      ]
     },
     "metadata": {
      "needs_background": "light"
     },
     "output_type": "display_data"
    }
   ],
   "source": [
    "gdp_1800 = gapminder_1800.pivot_table( \"gdp\", index=\"region\").plot(kind='bar')\n",
    "print(gdp_1800)\n",
    "print('\\n')\n",
    "print(\"The global average gdp in 1800 was \" + str(gapminder_1800['gdp'].mean()) + \" dollars.\")"
   ]
  },
  {
   "cell_type": "code",
   "execution_count": 35,
   "metadata": {
    "scrolled": true
   },
   "outputs": [
    {
     "name": "stdout",
     "output_type": "stream",
     "text": [
      "AxesSubplot(0.125,0.125;0.775x0.755)\n",
      "The global average gdp in 2000 was 329657107527.0 dollars.\n"
     ]
    },
    {
     "data": {
      "image/png": "[encoded data removed]",
      "text/plain": [
       "<matplotlib.figure.Figure at 0x7f2087a16cf8>"
      ]
     },
     "metadata": {
      "needs_background": "light"
     },
     "output_type": "display_data"
    }
   ],
   "source": [
    "gdp_2000 = gapminder_2000.pivot_table( \"gdp\", index=\"region\").plot(kind='bar')\n",
    "print(gdp_2000)\n",
    "print(\"The global average gdp in 2000 was \" + str(gapminder_2000['gdp'].mean()) + \" dollars.\")"
   ]
  },
  {
   "cell_type": "code",
   "execution_count": 36,
   "metadata": {},
   "outputs": [
    {
     "name": "stdout",
     "output_type": "stream",
     "text": [
      "6154.58575378\n"
     ]
    }
   ],
   "source": [
    "difference_gdp = ((gapminder_2000['gdp'].mean() - gapminder_1800['gdp'].mean())/gapminder_1800['gdp'].mean() * 100)\n",
    "print(difference_gdp)"
   ]
  },
  {
   "cell_type": "markdown",
   "metadata": {},
   "source": [
    "We can see that GDP has increased dramatically worldwide, from an average of 5,270,646,538.46 dollars in 1800 to 329,657,107,527 dollars in 2000. This accounts for an impressive change of 6154.6 %.\n",
    "We can see also that Asia was the region with the highest average gdp in 1800, followed by Europe. In 2000 this changed dramatically, with Americas taking the lead, followed by Europe and Asia. Africa remained the poorest region in the world and the average GDP there has grown far lower. "
   ]
  },
  {
   "cell_type": "markdown",
   "metadata": {},
   "source": [
    "__Gini coefficient__"
   ]
  },
  {
   "cell_type": "code",
   "execution_count": 37,
   "metadata": {},
   "outputs": [
    {
     "data": {
      "text/plain": [
       "<matplotlib.legend.Legend at 0x7f2087890fd0>"
      ]
     },
     "execution_count": 37,
     "metadata": {},
     "output_type": "execute_result"
    },
    {
     "data": {
      "image/png": "[encoded data removed]",
      "text/plain": [
       "<matplotlib.figure.Figure at 0x7f2087924710>"
      ]
     },
     "metadata": {
      "needs_background": "light"
     },
     "output_type": "display_data"
    }
   ],
   "source": [
    "gapminder_1800['gini'].hist(label='1800',alpha=0.7)\n",
    "gapminder_2000['gini'].hist(label='2000',alpha=0.7)\n",
    "plt.legend()"
   ]
  },
  {
   "cell_type": "code",
   "execution_count": 38,
   "metadata": {
    "scrolled": true
   },
   "outputs": [
    {
     "name": "stdout",
     "output_type": "stream",
     "text": [
      "AxesSubplot(0.125,0.125;0.775x0.755)\n",
      "\n",
      "\n",
      "The global average gini in 1800 was 41.5285714286.\n"
     ]
    },
    {
     "data": {
      "image/png": "[encoded data removed]",
      "text/plain": [
       "<matplotlib.figure.Figure at 0x7f20878ca8d0>"
      ]
     },
     "metadata": {
      "needs_background": "light"
     },
     "output_type": "display_data"
    }
   ],
   "source": [
    "gini_1800 = gapminder_1800.pivot_table( \"gini\", index=\"region\").plot(kind='bar')\n",
    "print(gini_1800)\n",
    "print('\\n')\n",
    "print(\"The global average gini in 1800 was \" + str(gapminder_1800['gini'].mean()) + \".\")"
   ]
  },
  {
   "cell_type": "code",
   "execution_count": 39,
   "metadata": {},
   "outputs": [
    {
     "name": "stdout",
     "output_type": "stream",
     "text": [
      "AxesSubplot(0.125,0.125;0.775x0.755)\n",
      "\n",
      "\n",
      "The global average gini in 2000 was 40.2112903226.\n"
     ]
    },
    {
     "data": {
      "image/png": "[encoded data removed]",
      "text/plain": [
       "<matplotlib.figure.Figure at 0x7f20879ab240>"
      ]
     },
     "metadata": {
      "needs_background": "light"
     },
     "output_type": "display_data"
    }
   ],
   "source": [
    "gini_2000 = gapminder_2000.pivot_table( \"gini\", index=\"region\").plot(kind='bar')\n",
    "print(gini_2000)\n",
    "print('\\n')\n",
    "print(\"The global average gini in 2000 was \" + str(gapminder_2000['gini'].mean()) + \".\")"
   ]
  },
  {
   "cell_type": "markdown",
   "metadata": {},
   "source": [
    "In terms of gini coefficient, we can notice from the histogram above that the world has become less inequal that it was 200 years ago. The global average gini in 1800 was 41.5, and 40.2 in 2000. In terms of regions, we can notice that Asia was the less inequal region in the world in 1800, followed by Europe. In 2000, Europe became the less inequal region in the world, with a Gini coefficient of around 30, followed by Asia. \n",
    "\n",
    "The two regions with the highest levels of inequality were Africa and Americas both in 1800 and 2000."
   ]
  },
  {
   "cell_type": "markdown",
   "metadata": {},
   "source": [
    "__Child Mortality__"
   ]
  },
  {
   "cell_type": "code",
   "execution_count": 40,
   "metadata": {},
   "outputs": [
    {
     "data": {
      "text/plain": [
       "<matplotlib.legend.Legend at 0x7f208776b358>"
      ]
     },
     "execution_count": 40,
     "metadata": {},
     "output_type": "execute_result"
    },
    {
     "data": {
      "image/png": "[encoded data removed]",
      "text/plain": [
       "<matplotlib.figure.Figure at 0x7f20877976d8>"
      ]
     },
     "metadata": {
      "needs_background": "light"
     },
     "output_type": "display_data"
    }
   ],
   "source": [
    "gapminder_1800['child_mortality'].hist(label='1800')\n",
    "gapminder_2000['child_mortality'].hist(label='2000')\n",
    "plt.legend()"
   ]
  },
  {
   "cell_type": "code",
   "execution_count": 41,
   "metadata": {},
   "outputs": [
    {
     "name": "stdout",
     "output_type": "stream",
     "text": [
      "AxesSubplot(0.125,0.125;0.775x0.755)\n",
      "\n",
      "\n",
      "The global average child mortality rate in 1800 was 425.032967033.\n"
     ]
    },
    {
     "data": {
      "image/png": "[encoded data removed]",
      "text/plain": [
       "<matplotlib.figure.Figure at 0x7f20877d8a90>"
      ]
     },
     "metadata": {
      "needs_background": "light"
     },
     "output_type": "display_data"
    }
   ],
   "source": [
    "child_mortality_1800 = gapminder_1800.pivot_table( \"child_mortality\", index=\"region\").plot(kind='bar')\n",
    "print(child_mortality_1800)\n",
    "print('\\n')\n",
    "print(\"The global average child mortality rate in 1800 was \" + str(gapminder_1800['child_mortality'].mean()) + \".\")"
   ]
  },
  {
   "cell_type": "code",
   "execution_count": 42,
   "metadata": {},
   "outputs": [
    {
     "name": "stdout",
     "output_type": "stream",
     "text": [
      "AxesSubplot(0.125,0.125;0.775x0.755)\n",
      "\n",
      "\n",
      "The global average child mortality rate in 2000 was 57.9322043011.\n"
     ]
    },
    {
     "data": {
      "image/png": "[encoded data removed]",
      "text/plain": [
       "<matplotlib.figure.Figure at 0x7f2087743d68>"
      ]
     },
     "metadata": {
      "needs_background": "light"
     },
     "output_type": "display_data"
    }
   ],
   "source": [
    "child_mortality_2000 = gapminder_2000.pivot_table( \"child_mortality\", index=\"region\").plot(kind='bar')\n",
    "print(child_mortality_2000)\n",
    "print('\\n')\n",
    "print(\"The global average child mortality rate in 2000 was \" + str(gapminder_2000['child_mortality'].mean()) + \".\")"
   ]
  },
  {
   "cell_type": "markdown",
   "metadata": {},
   "source": [
    "Child mortality has dramatically decreased from 1800 to 2000 due to advancement in medicine, sanity and diet. Interesting is to note that in 1800 the child mortality rate were very high everywhere in the world, while in 2000, the only region with high child mortality rate is Africa."
   ]
  },
  {
   "cell_type": "markdown",
   "metadata": {},
   "source": [
    "__Population__"
   ]
  },
  {
   "cell_type": "code",
   "execution_count": 43,
   "metadata": {},
   "outputs": [
    {
     "data": {
      "text/plain": [
       "<matplotlib.legend.Legend at 0x7f20875d5c50>"
      ]
     },
     "execution_count": 43,
     "metadata": {},
     "output_type": "execute_result"
    },
    {
     "data": {
      "image/png": "[encoded data removed]",
      "text/plain": [
       "<matplotlib.figure.Figure at 0x7f208765f3c8>"
      ]
     },
     "metadata": {
      "needs_background": "light"
     },
     "output_type": "display_data"
    }
   ],
   "source": [
    "gapminder_1800['population'].hist(label='1800',alpha=0.7)\n",
    "gapminder_2000['population'].hist(label='2000',alpha=0.7)\n",
    "plt.legend()"
   ]
  },
  {
   "cell_type": "code",
   "execution_count": 44,
   "metadata": {},
   "outputs": [
    {
     "name": "stdout",
     "output_type": "stream",
     "text": [
      "AxesSubplot(0.125,0.125;0.775x0.755)\n",
      "\n",
      "\n",
      "The global population 1800 was 953988760.\n"
     ]
    },
    {
     "data": {
      "image/png": "[encoded data removed]",
      "text/plain": [
       "<matplotlib.figure.Figure at 0x7f2087811fd0>"
      ]
     },
     "metadata": {
      "needs_background": "light"
     },
     "output_type": "display_data"
    }
   ],
   "source": [
    "population_1800 = gapminder_1800.pivot_table( \"population\", index=\"region\").plot(kind='bar')\n",
    "print(population_1800)\n",
    "print('\\n')\n",
    "print(\"The global population 1800 was \" + str(gapminder_1800['population'].sum()) + \".\")"
   ]
  },
  {
   "cell_type": "code",
   "execution_count": 45,
   "metadata": {},
   "outputs": [
    {
     "name": "stdout",
     "output_type": "stream",
     "text": [
      "AxesSubplot(0.125,0.125;0.775x0.755)\n",
      "\n",
      "\n",
      "The global population in 2000 was 6108355300.\n"
     ]
    },
    {
     "data": {
      "image/png": "[encoded data removed]",
      "text/plain": [
       "<matplotlib.figure.Figure at 0x7f20875b9780>"
      ]
     },
     "metadata": {
      "needs_background": "light"
     },
     "output_type": "display_data"
    }
   ],
   "source": [
    "population_2000 = gapminder_2000.pivot_table( \"population\", index=\"region\").plot(kind='bar')\n",
    "print(population_2000)\n",
    "print('\\n')\n",
    "print(\"The global population in 2000 was \" + str(gapminder_2000['population'].sum()) + \".\")"
   ]
  },
  {
   "cell_type": "code",
   "execution_count": 46,
   "metadata": {},
   "outputs": [
    {
     "name": "stdout",
     "output_type": "stream",
     "text": [
      "5.40296359467\n"
     ]
    }
   ],
   "source": [
    "difference_population = ((gapminder_2000['population'].sum() - gapminder_1800['population'].sum()) / gapminder_1800['population'].sum())\n",
    "print(difference_population)"
   ]
  },
  {
   "cell_type": "markdown",
   "metadata": {},
   "source": [
    "It does not come to surprise that the population has dramatically increased over the past 200 years. While in 1800 there were 953,988,760 people in the world, in 2000 there were over 6,108,355,300, for an increase of over 540%!!"
   ]
  },
  {
   "cell_type": "code",
   "execution_count": 47,
   "metadata": {},
   "outputs": [
    {
     "data": {
      "text/plain": [
       "<matplotlib.legend.Legend at 0x7f2087452710>"
      ]
     },
     "execution_count": 47,
     "metadata": {},
     "output_type": "execute_result"
    },
    {
     "data": {
      "image/png": "[encoded data removed]",
      "text/plain": [
       "<matplotlib.figure.Figure at 0x7f20874d36d8>"
      ]
     },
     "metadata": {
      "needs_background": "light"
     },
     "output_type": "display_data"
    }
   ],
   "source": [
    "#Life expectancy distribution\n",
    "gapminder_1800['life_expectancy'].hist(label='1800',alpha=0.7)\n",
    "gapminder_2000['life_expectancy'].hist(label='2000',alpha=0.7)\n",
    "plt.legend()"
   ]
  },
  {
   "cell_type": "code",
   "execution_count": 48,
   "metadata": {},
   "outputs": [
    {
     "name": "stdout",
     "output_type": "stream",
     "text": [
      "AxesSubplot(0.125,0.125;0.775x0.755)\n",
      "\n",
      "\n",
      "The life expectancy in 1800 was 31.4505494505 years.\n"
     ]
    },
    {
     "data": {
      "image/png": "[encoded data removed]",
      "text/plain": [
       "<matplotlib.figure.Figure at 0x7f2087452588>"
      ]
     },
     "metadata": {
      "needs_background": "light"
     },
     "output_type": "display_data"
    }
   ],
   "source": [
    "life_expectancy_1800 = gapminder_1800.pivot_table( \"life_expectancy\", index=\"region\").plot(kind='bar')\n",
    "print(life_expectancy_1800)\n",
    "print('\\n')\n",
    "print(\"The life expectancy in 1800 was \" + str(gapminder_1800['life_expectancy'].mean()) + \" years.\")"
   ]
  },
  {
   "cell_type": "code",
   "execution_count": 49,
   "metadata": {},
   "outputs": [
    {
     "name": "stdout",
     "output_type": "stream",
     "text": [
      "AxesSubplot(0.125,0.125;0.775x0.755)\n",
      "\n",
      "\n",
      "The life expectancy in 2000 was 67.4516129032 years.\n"
     ]
    },
    {
     "data": {
      "image/png": "[encoded data removed]",
      "text/plain": [
       "<matplotlib.figure.Figure at 0x7f20874028d0>"
      ]
     },
     "metadata": {
      "needs_background": "light"
     },
     "output_type": "display_data"
    }
   ],
   "source": [
    "life_expectancy_2000 = gapminder_2000.pivot_table( \"life_expectancy\", index=\"region\").plot(kind='bar')\n",
    "print(life_expectancy_2000)\n",
    "print('\\n')\n",
    "print(\"The life expectancy in 2000 was \" + str(gapminder_2000['life_expectancy'].mean()) + \" years.\")"
   ]
  },
  {
   "cell_type": "markdown",
   "metadata": {},
   "source": [
    "Life expectancy more than doubled from 1800 and 2000, passing from 31.5 years to 67 years. This is easily explanable by the improvement in sanitation and healthcare. In terms of regions, in 1800 Europe had the highest mean life expectancy, and it is still at the first place in 2000. Interesting to note that while in 1800 the difference among regions was not that pronunced, in 2000, it varies way more, with a max of Europe (~75 years), a min in Africa (~55 years)."
   ]
  },
  {
   "cell_type": "markdown",
   "metadata": {},
   "source": [
    "### Research Question 2  (correlation income_per_person vs other indicators)"
   ]
  },
  {
   "cell_type": "markdown",
   "metadata": {},
   "source": [
    "After exploring the single variables, I will now use `income_per_person` as indipendent variable to see if there is a correlation between it and the other variables. Most economists agrees that GDP and GDP/person are the best indicators to measure the prosperity of a country. However, I think that GDP/person is a better indicator of prosperity than GDP, considering that there are many countries which have a high total GDP while retaining high levels of poverty.\n"
   ]
  },
  {
   "cell_type": "markdown",
   "metadata": {},
   "source": [
    "__Gini vs. Income Per Person__"
   ]
  },
  {
   "cell_type": "code",
   "execution_count": 50,
   "metadata": {},
   "outputs": [
    {
     "data": {
      "text/plain": [
       "Text(0,0.5,'Income Per Person')"
      ]
     },
     "execution_count": 50,
     "metadata": {},
     "output_type": "execute_result"
    },
    {
     "data": {
      "image/png": "[encoded data removed]",
      "text/plain": [
       "<matplotlib.figure.Figure at 0x7f20873c19e8>"
      ]
     },
     "metadata": {
      "needs_background": "light"
     },
     "output_type": "display_data"
    }
   ],
   "source": [
    "plt.scatter(gapminder_1800['gini'],gapminder_1800['income_per_person'])\n",
    "plt.title('Gini vs. Income Per Person - 1800')\n",
    "plt.xlabel('Gini')\n",
    "plt.ylabel('Income Per Person')"
   ]
  },
  {
   "cell_type": "markdown",
   "metadata": {},
   "source": [
    "It seems there's wasn't clear correlation between Gini coefficient and Income Per Person in 1800. This means that equal societies were not necessary those which higher income per capita. Let's see if we notice a clearer correlation after 200 years."
   ]
  },
  {
   "cell_type": "code",
   "execution_count": 51,
   "metadata": {},
   "outputs": [
    {
     "data": {
      "text/plain": [
       "Text(0,0.5,'Income Per Person')"
      ]
     },
     "execution_count": 51,
     "metadata": {},
     "output_type": "execute_result"
    },
    {
     "data": {
      "image/png": "[encoded data removed]",
      "text/plain": [
       "<matplotlib.figure.Figure at 0x7f208731eb38>"
      ]
     },
     "metadata": {
      "needs_background": "light"
     },
     "output_type": "display_data"
    }
   ],
   "source": [
    "plt.scatter(gapminder_2000['gini'],gapminder_2000['income_per_person'])\n",
    "plt.title('Gini vs. Income Per Person - 2000')\n",
    "plt.xlabel('Gini')\n",
    "plt.ylabel('Income Per Person')"
   ]
  },
  {
   "cell_type": "markdown",
   "metadata": {},
   "source": [
    "Even in 2000, there wasn't a clear correlation betweeen Gini and Income per Person."
   ]
  },
  {
   "cell_type": "markdown",
   "metadata": {},
   "source": [
    "__GDP vs. Income Per Person__"
   ]
  },
  {
   "cell_type": "code",
   "execution_count": 52,
   "metadata": {
    "scrolled": true
   },
   "outputs": [
    {
     "data": {
      "text/plain": [
       "Text(0,0.5,'Income Per Person')"
      ]
     },
     "execution_count": 52,
     "metadata": {},
     "output_type": "execute_result"
    },
    {
     "data": {
      "image/png": "[encoded data removed]",
      "text/plain": [
       "<matplotlib.figure.Figure at 0x7f2087443550>"
      ]
     },
     "metadata": {
      "needs_background": "light"
     },
     "output_type": "display_data"
    }
   ],
   "source": [
    "plt.scatter(gapminder_1800['gdp'],gapminder_1800['income_per_person'])\n",
    "plt.title('GDP vs. Income Per Person - 1800')\n",
    "plt.xlabel('GDP')\n",
    "plt.ylabel('Income Per Person')"
   ]
  },
  {
   "cell_type": "code",
   "execution_count": 53,
   "metadata": {
    "scrolled": true
   },
   "outputs": [
    {
     "data": {
      "text/plain": [
       "Text(0,0.5,'Income Per Person')"
      ]
     },
     "execution_count": 53,
     "metadata": {},
     "output_type": "execute_result"
    },
    {
     "data": {
      "image/png": "[encoded data removed]",
      "text/plain": [
       "<matplotlib.figure.Figure at 0x7f20872bf198>"
      ]
     },
     "metadata": {
      "needs_background": "light"
     },
     "output_type": "display_data"
    }
   ],
   "source": [
    "plt.scatter(gapminder_2000['gdp'],gapminder_2000['income_per_person'])\n",
    "plt.title('GDP vs. Income Per Person - 2000')\n",
    "plt.xlabel('GDP')\n",
    "plt.ylabel('Income Per Person')"
   ]
  },
  {
   "cell_type": "markdown",
   "metadata": {},
   "source": [
    "There is not clear correlation between GDP and Income Per Person neither in 1800 nor in 2000."
   ]
  },
  {
   "cell_type": "markdown",
   "metadata": {},
   "source": [
    "__Life Expectancy vs Income Per Person__"
   ]
  },
  {
   "cell_type": "code",
   "execution_count": 54,
   "metadata": {},
   "outputs": [
    {
     "data": {
      "text/plain": [
       "Text(0,0.5,'Income Per Person')"
      ]
     },
     "execution_count": 54,
     "metadata": {},
     "output_type": "execute_result"
    },
    {
     "data": {
      "image/png": "[encoded data removed]",
      "text/plain": [
       "<matplotlib.figure.Figure at 0x7f20872dd1d0>"
      ]
     },
     "metadata": {
      "needs_background": "light"
     },
     "output_type": "display_data"
    }
   ],
   "source": [
    "plt.scatter(gapminder_1800['life_expectancy'],gapminder_1800['income_per_person'])\n",
    "plt.title('Life Expectancy vs. Income Per Person - 1800')\n",
    "plt.xlabel('Life Expectancy')\n",
    "plt.ylabel('Income Per Person')"
   ]
  },
  {
   "cell_type": "markdown",
   "metadata": {},
   "source": [
    "We can notice a positive correlation between Life Expectancy and Income Per Person in 1800. With an increase of income, people tended to live longer. Is it the case also 200 years later?"
   ]
  },
  {
   "cell_type": "code",
   "execution_count": 55,
   "metadata": {},
   "outputs": [
    {
     "data": {
      "text/plain": [
       "Text(0,0.5,'Income Per Person')"
      ]
     },
     "execution_count": 55,
     "metadata": {},
     "output_type": "execute_result"
    },
    {
     "data": {
      "image/png": "[encoded data removed]",
      "text/plain": [
       "<matplotlib.figure.Figure at 0x7f2087248438>"
      ]
     },
     "metadata": {
      "needs_background": "light"
     },
     "output_type": "display_data"
    }
   ],
   "source": [
    "plt.scatter(gapminder_2000['life_expectancy'],gapminder_2000['income_per_person'])\n",
    "plt.title('Life Expectancy vs. Income Per Person - 2000')\n",
    "plt.xlabel('Life Expectancy')\n",
    "plt.ylabel('Income Per Person')"
   ]
  },
  {
   "cell_type": "markdown",
   "metadata": {},
   "source": [
    "Even in 2000, we can notice a positive correlation between these two variables. Most countries with less than 20,000 dollars of average income, lived between 45 to 70 years. From 70 years on, the correlation is more pronunced, with people with higher income living longer."
   ]
  },
  {
   "cell_type": "markdown",
   "metadata": {},
   "source": [
    "__Child Mortality vs Income per Person__"
   ]
  },
  {
   "cell_type": "code",
   "execution_count": 56,
   "metadata": {},
   "outputs": [
    {
     "data": {
      "text/plain": [
       "Text(0,0.5,'Income Per Person')"
      ]
     },
     "execution_count": 56,
     "metadata": {},
     "output_type": "execute_result"
    },
    {
     "data": {
      "image/png": "[encoded data removed]",
      "text/plain": [
       "<matplotlib.figure.Figure at 0x7f20871d0470>"
      ]
     },
     "metadata": {
      "needs_background": "light"
     },
     "output_type": "display_data"
    }
   ],
   "source": [
    "plt.scatter(gapminder_1800['child_mortality'],gapminder_1800['income_per_person'])\n",
    "plt.title('Child Mortality vs. Income Per Person - 1800')\n",
    "plt.xlabel('Child Mortality')\n",
    "plt.ylabel('Income Per Person')"
   ]
  },
  {
   "cell_type": "code",
   "execution_count": 57,
   "metadata": {},
   "outputs": [
    {
     "data": {
      "text/plain": [
       "Text(0,0.5,'Income Per Person')"
      ]
     },
     "execution_count": 57,
     "metadata": {},
     "output_type": "execute_result"
    },
    {
     "data": {
      "image/png": "[encoded data removed]",
      "text/plain": [
       "<matplotlib.figure.Figure at 0x7f2087243f98>"
      ]
     },
     "metadata": {
      "needs_background": "light"
     },
     "output_type": "display_data"
    }
   ],
   "source": [
    "plt.scatter(gapminder_2000['child_mortality'],gapminder_2000['income_per_person'])\n",
    "plt.title('Child Mortality vs. Income Per Person - 2000')\n",
    "plt.xlabel('Child Mortality')\n",
    "plt.ylabel('Income Per Person')"
   ]
  },
  {
   "cell_type": "markdown",
   "metadata": {},
   "source": [
    "From above we can notice an interesting difference between 1800 and 2000. While in 1800 there wasn't really a clear correlation between child mortality and income per person, in 2000 we can notice a clear negative correlation. Countries with higher income per person tended to have lower child mortality."
   ]
  },
  {
   "cell_type": "markdown",
   "metadata": {},
   "source": [
    "<a id='conclusions'></a>\n",
    "## Conclusions\n",
    "\n",
    "This project shows how the world has evolved over 200 years, from 1800 to 2000. The statistical analysis and visualization shows that the world has become a more prosperous place, with less child mortality rate and higher life expectancy. We also noted that while differences between regions where not that pronounced in 1800, in 2000 this became much more evident. Europe, in 2000, seemed to be the most prosperous region in the world, with the highest income per person, lowest child mortality and longest life expectancy. In terms of GDP, while in 1800 Asia was the richest region of the world, in 2000 it left the first place to Americas. This is mostly due to the incredible wealth that the United States has. \n",
    "\n",
    "In terms of correlation between the our independent variable, income per person, and the dependent variables, we can notice a clear correlation only in terms of life expectancy and mortality rates. Countries with higher income per capita tends to have, respectively, higher life expectancy and lower mortality rate. This trend is particularly evident when we used 2000 as base year, while in 1800 the difference was not that noticeble.\n",
    "\n",
    "\n",
    "The main limitation of this project is that we considered only two point of time, 1800 and 2000, and evaluated the trends on a regional level, not country based. If we focused on single countries, the results may have different considerabily. Moreover, although I think that the indicators I selected well represent the prosperity of a country, there might be other relevant variables which I did not take into consideration."
   ]
  }
 ],
 "metadata": {
  "kernelspec": {
   "display_name": "Python 3",
   "language": "python",
   "name": "python3"
  },
  "language_info": {
   "codemirror_mode": {
    "name": "ipython",
    "version": 3
   },
   "file_extension": ".py",
   "mimetype": "text/x-python",
   "name": "python",
   "nbconvert_exporter": "python",
   "pygments_lexer": "ipython3",
   "version": "3.6.3"
  }
 },
 "nbformat": 4,
 "nbformat_minor": 2
}
